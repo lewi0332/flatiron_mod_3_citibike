{
 "cells": [
  {
   "cell_type": "code",
   "execution_count": 1,
   "metadata": {
    "collapsed": true
   },
   "outputs": [],
   "source": [
    "import pandas as pd\n",
    "import matplotlib.pyplot as plt\n",
    "import seaborn as sns\n",
    "import numpy as np\n",
    "from scipy import stats\n",
    "from sklearn.model_selection import train_test_split, GridSearchCV, cross_val_score\n",
    "from sklearn.preprocessing import StandardScaler\n",
    "from sklearn.metrics import accuracy_score, confusion_matrix, classification_report\n",
    "from sklearn.tree import DecisionTreeClassifier\n",
    "from sklearn.ensemble import RandomForestClassifier\n",
    "from sklearn.metrics import accuracy_score\n",
    "from imblearn.over_sampling import SMOTE\n",
    "from imblearn.under_sampling import RandomUnderSampler\n",
    "from imblearn.under_sampling import EditedNearestNeighbours\n",
    "np.random.seed(0)"
   ]
  },
  {
   "cell_type": "code",
   "execution_count": 2,
   "metadata": {
    "collapsed": true
   },
   "outputs": [],
   "source": [
    "df = pd.read_csv('../mod_three_project/new_2018_citibike_data.cvs')\n",
    "df.drop(['Unnamed: 0'],axis=1,inplace=True)\n"
   ]
  },
  {
   "cell_type": "code",
   "execution_count": 5,
   "metadata": {},
   "outputs": [],
   "source": [
    "target = df.stop_nhbr\n",
    "data = pd.get_dummies(df[['start station id','usertype', 'gender',\n",
    "                            'start_month', 'start_day_of_week',\n",
    "                            'start_hour', 'ave_temp','precip', \n",
    "                            'snow_depth', 'birth_yr_range',\n",
    "                            'start_hr_range']])"
   ]
  },
  {
   "cell_type": "code",
   "execution_count": 23,
   "metadata": {},
   "outputs": [],
   "source": [
    "undersm = RandomUnderSampler(sampling_strategy='not minority',random_state=42)\n",
    "X_und, y_und = undersm.fit_resample(data, target)"
   ]
  },
  {
   "cell_type": "code",
   "execution_count": 24,
   "metadata": {},
   "outputs": [],
   "source": [
    "X_und = pd.DataFrame(X_und)\n",
    "target_und = pd.Series(y_und)"
   ]
  },
  {
   "cell_type": "code",
   "execution_count": 25,
   "metadata": {},
   "outputs": [
    {
     "data": {
      "text/plain": [
       "Bedford Stuyvesant                     661\n",
       "Columbia Street Waterfront District    661\n",
       "Clinton Hill                           661\n",
       "SoHo                                   661\n",
       "Sutton Place                           661\n",
       "Brooklyn Heights                       661\n",
       "East Village                           661\n",
       "Upper East Side                        661\n",
       "Navy Yard                              661\n",
       "Flatiron District                      661\n",
       "Boerum Hill                            661\n",
       "Prospect Lefferts Gardens              661\n",
       "Park Slope                             661\n",
       "Sunnyside                              661\n",
       "Gowanus                                661\n",
       "Tribeca                                661\n",
       "Upper West Side                        661\n",
       "Central Park                           661\n",
       "Gramercy                               661\n",
       "Chinatown                              661\n",
       "Prospect Heights                       661\n",
       "Astoria                                661\n",
       "Greenpoint                             661\n",
       "Williamsburg                           661\n",
       "Morningside Heights                    661\n",
       "Downtown                               661\n",
       "Tudor City                             661\n",
       "Battery Park                           661\n",
       "Columbus Circle                        661\n",
       "West Village                           661\n",
       "Little Italy                           661\n",
       "Turtle Bay                             661\n",
       "Lower East Side                        661\n",
       "Clinton                                661\n",
       "Crown Heights                          661\n",
       "Red Hook                               661\n",
       "Cobble Hill                            661\n",
       "Financial District                     661\n",
       "Greenwich Village                      661\n",
       "Hunters Point                          661\n",
       "Harlem                                 661\n",
       "NoHo                                   661\n",
       "Chelsea                                661\n",
       "DUMBO                                  661\n",
       "Midtown                                661\n",
       "Stuyvesant Town                        661\n",
       "East Harlem                            661\n",
       "Carroll Gardens                        661\n",
       "Fort Greene                            661\n",
       "Garment District                       661\n",
       "Murray Hill                            661\n",
       "dtype: int64"
      ]
     },
     "execution_count": 25,
     "metadata": {},
     "output_type": "execute_result"
    }
   ],
   "source": [
    "target_und.value_counts()"
   ]
  },
  {
   "cell_type": "markdown",
   "metadata": {},
   "source": [
    "### Do train test split for the data\n",
    "\n",
    "we have chose the 80/20 split as our ratio"
   ]
  },
  {
   "cell_type": "code",
   "execution_count": 26,
   "metadata": {
    "collapsed": true
   },
   "outputs": [],
   "source": [
    "und_train, und_test, und_tgt_train, und_tgt_test = train_test_split(X_und,target_und,test_size=0.2)"
   ]
  },
  {
   "cell_type": "markdown",
   "metadata": {},
   "source": [
    "__Random Forest Baseline with the undersampled data__"
   ]
  },
  {
   "cell_type": "code",
   "execution_count": 27,
   "metadata": {},
   "outputs": [
    {
     "data": {
      "text/plain": [
       "RandomForestClassifier(bootstrap=True, class_weight=None, criterion='gini',\n",
       "            max_depth=5, max_features='auto', max_leaf_nodes=None,\n",
       "            min_impurity_decrease=0.0, min_impurity_split=None,\n",
       "            min_samples_leaf=1, min_samples_split=2,\n",
       "            min_weight_fraction_leaf=0.0, n_estimators=100, n_jobs=None,\n",
       "            oob_score=False, random_state=None, verbose=0,\n",
       "            warm_start=False)"
      ]
     },
     "execution_count": 27,
     "metadata": {},
     "output_type": "execute_result"
    }
   ],
   "source": [
    "forest_bl = RandomForestClassifier(n_estimators=100, max_depth= 5)\n",
    "forest_bl.fit(und_train, und_tgt_train)"
   ]
  },
  {
   "cell_type": "code",
   "execution_count": 29,
   "metadata": {},
   "outputs": [
    {
     "name": "stdout",
     "output_type": "stream",
     "text": [
      "Baseline random forest accuracy:\n",
      "7.63%\n",
      "\n",
      "Baseline random forest test accuracy:\n",
      "6.45%\n"
     ]
    }
   ],
   "source": [
    "print('Baseline random forest accuracy:', str(round(forest_bl.score(und_train, und_tgt_train)*100,2))+'%',\n",
    "      '\\nBaseline random forest test accuracy:',str(round(forest_bl.score(und_test, und_tgt_test)*100,2))+'%',sep='\\n')"
   ]
  },
  {
   "cell_type": "markdown",
   "metadata": {},
   "source": [
    "__Random Forest Grid Search__\n",
    "\n",
    "define our parameter grid dictionary"
   ]
  },
  {
   "cell_type": "code",
   "execution_count": null,
   "metadata": {
    "collapsed": true
   },
   "outputs": [],
   "source": [
    "df_sample = "
   ]
  },
  {
   "cell_type": "code",
   "execution_count": 31,
   "metadata": {
    "collapsed": true
   },
   "outputs": [],
   "source": [
    "rf_param_grid = {\n",
    "    'n_estimators': [50,100,150,200],\n",
    "    'criterion': ['gini', 'entropy'],\n",
    "    'max_depth': [None, 2, 3, 4, 5, 6],\n",
    "    'min_samples_split': [2, 5, 10],\n",
    "    'min_samples_leaf': [1, 2, 3, 4, 5, 6]\n",
    "}"
   ]
  },
  {
   "cell_type": "code",
   "execution_count": 32,
   "metadata": {},
   "outputs": [
    {
     "data": {
      "text/plain": [
       "GridSearchCV(cv=3, error_score='raise-deprecating',\n",
       "       estimator=RandomForestClassifier(bootstrap=True, class_weight=None, criterion='gini',\n",
       "            max_depth=5, max_features='auto', max_leaf_nodes=None,\n",
       "            min_impurity_decrease=0.0, min_impurity_split=None,\n",
       "            min_samples_leaf=1, min_samples_split=2,\n",
       "            min_weight_fraction_leaf=0.0, n_estimators=100, n_jobs=None,\n",
       "            oob_score=False, random_state=None, verbose=0,\n",
       "            warm_start=False),\n",
       "       fit_params=None, iid='warn', n_jobs=None,\n",
       "       param_grid={'n_estimators': [50, 100, 150, 200], 'criterion': ['gini', 'entropy'], 'max_depth': [None, 2, 3, 4, 5, 6], 'min_samples_split': [2, 5, 10], 'min_samples_leaf': [1, 2, 3, 4, 5, 6]},\n",
       "       pre_dispatch='2*n_jobs', refit=True, return_train_score=True,\n",
       "       scoring=None, verbose=0)"
      ]
     },
     "execution_count": 32,
     "metadata": {},
     "output_type": "execute_result"
    }
   ],
   "source": [
    "rf_grid_search = GridSearchCV(forest_bl, rf_param_grid, cv=3, return_train_score=True)\n",
    "rf_grid_search.fit(X_und, target_und)"
   ]
  },
  {
   "cell_type": "code",
   "execution_count": null,
   "metadata": {
    "collapsed": true
   },
   "outputs": [],
   "source": []
  }
 ],
 "metadata": {
  "kernelspec": {
   "display_name": "Python 3",
   "language": "python",
   "name": "python3"
  },
  "language_info": {
   "codemirror_mode": {
    "name": "ipython",
    "version": 3
   },
   "file_extension": ".py",
   "mimetype": "text/x-python",
   "name": "python",
   "nbconvert_exporter": "python",
   "pygments_lexer": "ipython3",
   "version": "3.6.8"
  }
 },
 "nbformat": 4,
 "nbformat_minor": 2
}
