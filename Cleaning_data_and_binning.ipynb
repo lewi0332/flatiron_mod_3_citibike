{
 "cells": [
  {
   "cell_type": "markdown",
   "metadata": {},
   "source": [
    "# Import libraries and read in the data"
   ]
  },
  {
   "cell_type": "code",
   "execution_count": 2,
   "metadata": {
    "collapsed": true
   },
   "outputs": [],
   "source": [
    "import pandas as pd\n",
    "import matplotlib.pyplot as plt\n",
    "import seaborn as sns\n",
    "import numpy as np\n",
    "from scipy import stats"
   ]
  },
  {
   "cell_type": "code",
   "execution_count": 114,
   "metadata": {
    "collapsed": true
   },
   "outputs": [],
   "source": [
    "df = pd.read_csv('../mod_three_project/citibike_2018_2.csv')"
   ]
  },
  {
   "cell_type": "markdown",
   "metadata": {},
   "source": [
    "__Check out the head of our DataFrame__"
   ]
  },
  {
   "cell_type": "code",
   "execution_count": 115,
   "metadata": {},
   "outputs": [
    {
     "data": {
      "text/html": [
       "<div>\n",
       "<style scoped>\n",
       "    .dataframe tbody tr th:only-of-type {\n",
       "        vertical-align: middle;\n",
       "    }\n",
       "\n",
       "    .dataframe tbody tr th {\n",
       "        vertical-align: top;\n",
       "    }\n",
       "\n",
       "    .dataframe thead th {\n",
       "        text-align: right;\n",
       "    }\n",
       "</style>\n",
       "<table border=\"1\" class=\"dataframe\">\n",
       "  <thead>\n",
       "    <tr style=\"text-align: right;\">\n",
       "      <th></th>\n",
       "      <th>tripduration</th>\n",
       "      <th>start station id</th>\n",
       "      <th>usertype</th>\n",
       "      <th>birth year</th>\n",
       "      <th>gender</th>\n",
       "      <th>start_month</th>\n",
       "      <th>start_day_of_week</th>\n",
       "      <th>start_hour</th>\n",
       "      <th>ave_temp</th>\n",
       "      <th>precip</th>\n",
       "      <th>snow_depth</th>\n",
       "      <th>stop_nhbr</th>\n",
       "    </tr>\n",
       "  </thead>\n",
       "  <tbody>\n",
       "    <tr>\n",
       "      <th>0</th>\n",
       "      <td>556</td>\n",
       "      <td>518.0</td>\n",
       "      <td>1</td>\n",
       "      <td>1965</td>\n",
       "      <td>1</td>\n",
       "      <td>1</td>\n",
       "      <td>1</td>\n",
       "      <td>7</td>\n",
       "      <td>19.5</td>\n",
       "      <td>0.00</td>\n",
       "      <td>0</td>\n",
       "      <td>Tribeca</td>\n",
       "    </tr>\n",
       "    <tr>\n",
       "      <th>1</th>\n",
       "      <td>689</td>\n",
       "      <td>539.0</td>\n",
       "      <td>1</td>\n",
       "      <td>1988</td>\n",
       "      <td>1</td>\n",
       "      <td>1</td>\n",
       "      <td>0</td>\n",
       "      <td>11</td>\n",
       "      <td>43.5</td>\n",
       "      <td>0.01</td>\n",
       "      <td>0</td>\n",
       "      <td>Park Slope</td>\n",
       "    </tr>\n",
       "    <tr>\n",
       "      <th>2</th>\n",
       "      <td>1649</td>\n",
       "      <td>366.0</td>\n",
       "      <td>1</td>\n",
       "      <td>1982</td>\n",
       "      <td>2</td>\n",
       "      <td>1</td>\n",
       "      <td>6</td>\n",
       "      <td>11</td>\n",
       "      <td>46.0</td>\n",
       "      <td>0.00</td>\n",
       "      <td>0</td>\n",
       "      <td>Clinton Hill</td>\n",
       "    </tr>\n",
       "    <tr>\n",
       "      <th>3</th>\n",
       "      <td>467</td>\n",
       "      <td>387.0</td>\n",
       "      <td>0</td>\n",
       "      <td>1969</td>\n",
       "      <td>0</td>\n",
       "      <td>1</td>\n",
       "      <td>5</td>\n",
       "      <td>22</td>\n",
       "      <td>45.5</td>\n",
       "      <td>0.00</td>\n",
       "      <td>0</td>\n",
       "      <td>Clinton</td>\n",
       "    </tr>\n",
       "    <tr>\n",
       "      <th>4</th>\n",
       "      <td>665</td>\n",
       "      <td>540.0</td>\n",
       "      <td>1</td>\n",
       "      <td>1982</td>\n",
       "      <td>1</td>\n",
       "      <td>1</td>\n",
       "      <td>0</td>\n",
       "      <td>13</td>\n",
       "      <td>43.5</td>\n",
       "      <td>0.01</td>\n",
       "      <td>0</td>\n",
       "      <td>East Village</td>\n",
       "    </tr>\n",
       "  </tbody>\n",
       "</table>\n",
       "</div>"
      ],
      "text/plain": [
       "   tripduration  start station id  usertype  birth year  gender  start_month  \\\n",
       "0           556             518.0         1        1965       1            1   \n",
       "1           689             539.0         1        1988       1            1   \n",
       "2          1649             366.0         1        1982       2            1   \n",
       "3           467             387.0         0        1969       0            1   \n",
       "4           665             540.0         1        1982       1            1   \n",
       "\n",
       "   start_day_of_week  start_hour  ave_temp  precip  snow_depth     stop_nhbr  \n",
       "0                  1           7      19.5    0.00           0       Tribeca  \n",
       "1                  0          11      43.5    0.01           0    Park Slope  \n",
       "2                  6          11      46.0    0.00           0  Clinton Hill  \n",
       "3                  5          22      45.5    0.00           0       Clinton  \n",
       "4                  0          13      43.5    0.01           0  East Village  "
      ]
     },
     "execution_count": 115,
     "metadata": {},
     "output_type": "execute_result"
    }
   ],
   "source": [
    "df.head()"
   ]
  },
  {
   "cell_type": "markdown",
   "metadata": {},
   "source": [
    "__Lets see how many rows say they are older than 80.__"
   ]
  },
  {
   "cell_type": "code",
   "execution_count": 116,
   "metadata": {},
   "outputs": [
    {
     "data": {
      "text/plain": [
       "(2361, 12)"
      ]
     },
     "execution_count": 116,
     "metadata": {},
     "output_type": "execute_result"
    }
   ],
   "source": [
    "df[df['birth year'] <= 1939].shape"
   ]
  },
  {
   "cell_type": "code",
   "execution_count": 117,
   "metadata": {},
   "outputs": [
    {
     "data": {
      "text/plain": [
       "0.13"
      ]
     },
     "execution_count": 117,
     "metadata": {},
     "output_type": "execute_result"
    }
   ],
   "source": [
    "round(df[df['birth year'] <= 1939].shape[0]/df.shape[0] * 100,2)"
   ]
  },
  {
   "cell_type": "code",
   "execution_count": 118,
   "metadata": {},
   "outputs": [
    {
     "data": {
      "text/plain": [
       "1900    595\n",
       "1937    239\n",
       "1939    161\n",
       "1938    151\n",
       "1923    139\n",
       "1935    112\n",
       "1936     97\n",
       "1887     84\n",
       "1888     81\n",
       "1934     79\n",
       "1932     79\n",
       "1933     68\n",
       "1901     43\n",
       "1894     37\n",
       "1912     37\n",
       "1885     33\n",
       "1930     30\n",
       "1924     29\n",
       "1895     28\n",
       "1910     26\n",
       "1886     25\n",
       "1921     23\n",
       "1917     23\n",
       "1899     21\n",
       "1909     19\n",
       "1918     17\n",
       "1931     17\n",
       "1929     13\n",
       "1919      8\n",
       "1916      8\n",
       "1907      7\n",
       "1896      6\n",
       "1889      5\n",
       "1890      4\n",
       "1920      3\n",
       "1915      3\n",
       "1922      3\n",
       "1926      2\n",
       "1927      1\n",
       "1928      1\n",
       "1911      1\n",
       "1913      1\n",
       "1897      1\n",
       "1893      1\n",
       "Name: birth year, dtype: int64"
      ]
     },
     "execution_count": 118,
     "metadata": {},
     "output_type": "execute_result"
    }
   ],
   "source": [
    "df[df['birth year'] <= 1939]['birth year'].value_counts()"
   ]
  },
  {
   "cell_type": "markdown",
   "metadata": {},
   "source": [
    "Only __0.13%__ is from people saying they were born before 1939. If you look at the data above, these all seem pretty unrealistic, so lets __drop these values.__"
   ]
  },
  {
   "cell_type": "code",
   "execution_count": 119,
   "metadata": {},
   "outputs": [
    {
     "data": {
      "text/html": [
       "<div>\n",
       "<style scoped>\n",
       "    .dataframe tbody tr th:only-of-type {\n",
       "        vertical-align: middle;\n",
       "    }\n",
       "\n",
       "    .dataframe tbody tr th {\n",
       "        vertical-align: top;\n",
       "    }\n",
       "\n",
       "    .dataframe thead th {\n",
       "        text-align: right;\n",
       "    }\n",
       "</style>\n",
       "<table border=\"1\" class=\"dataframe\">\n",
       "  <thead>\n",
       "    <tr style=\"text-align: right;\">\n",
       "      <th></th>\n",
       "      <th>tripduration</th>\n",
       "      <th>start station id</th>\n",
       "      <th>usertype</th>\n",
       "      <th>birth year</th>\n",
       "      <th>gender</th>\n",
       "      <th>start_month</th>\n",
       "      <th>start_day_of_week</th>\n",
       "      <th>start_hour</th>\n",
       "      <th>ave_temp</th>\n",
       "      <th>precip</th>\n",
       "      <th>snow_depth</th>\n",
       "      <th>stop_nhbr</th>\n",
       "    </tr>\n",
       "  </thead>\n",
       "  <tbody>\n",
       "    <tr>\n",
       "      <th>0</th>\n",
       "      <td>556</td>\n",
       "      <td>518.0</td>\n",
       "      <td>1</td>\n",
       "      <td>1965</td>\n",
       "      <td>1</td>\n",
       "      <td>1</td>\n",
       "      <td>1</td>\n",
       "      <td>7</td>\n",
       "      <td>19.5</td>\n",
       "      <td>0.00</td>\n",
       "      <td>0</td>\n",
       "      <td>Tribeca</td>\n",
       "    </tr>\n",
       "    <tr>\n",
       "      <th>1</th>\n",
       "      <td>689</td>\n",
       "      <td>539.0</td>\n",
       "      <td>1</td>\n",
       "      <td>1988</td>\n",
       "      <td>1</td>\n",
       "      <td>1</td>\n",
       "      <td>0</td>\n",
       "      <td>11</td>\n",
       "      <td>43.5</td>\n",
       "      <td>0.01</td>\n",
       "      <td>0</td>\n",
       "      <td>Park Slope</td>\n",
       "    </tr>\n",
       "    <tr>\n",
       "      <th>2</th>\n",
       "      <td>1649</td>\n",
       "      <td>366.0</td>\n",
       "      <td>1</td>\n",
       "      <td>1982</td>\n",
       "      <td>2</td>\n",
       "      <td>1</td>\n",
       "      <td>6</td>\n",
       "      <td>11</td>\n",
       "      <td>46.0</td>\n",
       "      <td>0.00</td>\n",
       "      <td>0</td>\n",
       "      <td>Clinton Hill</td>\n",
       "    </tr>\n",
       "    <tr>\n",
       "      <th>3</th>\n",
       "      <td>467</td>\n",
       "      <td>387.0</td>\n",
       "      <td>0</td>\n",
       "      <td>1969</td>\n",
       "      <td>0</td>\n",
       "      <td>1</td>\n",
       "      <td>5</td>\n",
       "      <td>22</td>\n",
       "      <td>45.5</td>\n",
       "      <td>0.00</td>\n",
       "      <td>0</td>\n",
       "      <td>Clinton</td>\n",
       "    </tr>\n",
       "    <tr>\n",
       "      <th>4</th>\n",
       "      <td>665</td>\n",
       "      <td>540.0</td>\n",
       "      <td>1</td>\n",
       "      <td>1982</td>\n",
       "      <td>1</td>\n",
       "      <td>1</td>\n",
       "      <td>0</td>\n",
       "      <td>13</td>\n",
       "      <td>43.5</td>\n",
       "      <td>0.01</td>\n",
       "      <td>0</td>\n",
       "      <td>East Village</td>\n",
       "    </tr>\n",
       "  </tbody>\n",
       "</table>\n",
       "</div>"
      ],
      "text/plain": [
       "   tripduration  start station id  usertype  birth year  gender  start_month  \\\n",
       "0           556             518.0         1        1965       1            1   \n",
       "1           689             539.0         1        1988       1            1   \n",
       "2          1649             366.0         1        1982       2            1   \n",
       "3           467             387.0         0        1969       0            1   \n",
       "4           665             540.0         1        1982       1            1   \n",
       "\n",
       "   start_day_of_week  start_hour  ave_temp  precip  snow_depth     stop_nhbr  \n",
       "0                  1           7      19.5    0.00           0       Tribeca  \n",
       "1                  0          11      43.5    0.01           0    Park Slope  \n",
       "2                  6          11      46.0    0.00           0  Clinton Hill  \n",
       "3                  5          22      45.5    0.00           0       Clinton  \n",
       "4                  0          13      43.5    0.01           0  East Village  "
      ]
     },
     "execution_count": 119,
     "metadata": {},
     "output_type": "execute_result"
    }
   ],
   "source": [
    "df.drop(list(df[df['birth year'] <= 1939]['birth year'].index),inplace=True)\n",
    "df.head()"
   ]
  },
  {
   "cell_type": "code",
   "execution_count": 120,
   "metadata": {},
   "outputs": [
    {
     "data": {
      "text/plain": [
       "(1752181, 12)"
      ]
     },
     "execution_count": 120,
     "metadata": {},
     "output_type": "execute_result"
    }
   ],
   "source": [
    "df.shape #the old len == 1754542, so this seems correct"
   ]
  },
  {
   "cell_type": "markdown",
   "metadata": {},
   "source": [
    "### the youngest riders would need to be born in 2003, so we check for any riders claiming to be born after that"
   ]
  },
  {
   "cell_type": "code",
   "execution_count": 153,
   "metadata": {},
   "outputs": [
    {
     "data": {
      "text/plain": [
       "2002"
      ]
     },
     "execution_count": 153,
     "metadata": {},
     "output_type": "execute_result"
    }
   ],
   "source": [
    "df['birth year'].max()"
   ]
  },
  {
   "cell_type": "markdown",
   "metadata": {},
   "source": [
    "it looks like there are no riders claiming to be younger, great!\n",
    "\n",
    "\n",
    "__We realized there were a few missing values, so let's check for them now:__"
   ]
  },
  {
   "cell_type": "code",
   "execution_count": 121,
   "metadata": {},
   "outputs": [
    {
     "data": {
      "text/plain": [
       "tripduration         0\n",
       "start station id     0\n",
       "usertype             0\n",
       "birth year           0\n",
       "gender               0\n",
       "start_month          0\n",
       "start_day_of_week    0\n",
       "start_hour           0\n",
       "ave_temp             0\n",
       "precip               0\n",
       "snow_depth           0\n",
       "stop_nhbr            9\n",
       "dtype: int64"
      ]
     },
     "execution_count": 121,
     "metadata": {},
     "output_type": "execute_result"
    }
   ],
   "source": [
    "df.isnull().sum()"
   ]
  },
  {
   "cell_type": "markdown",
   "metadata": {},
   "source": [
    "There are __nine__ missing values in the neighborhoods, so lets fill those with the mode of the neighborhoods. There are very few to replace, so this shouldn't skew results."
   ]
  },
  {
   "cell_type": "code",
   "execution_count": 122,
   "metadata": {
    "collapsed": true
   },
   "outputs": [],
   "source": [
    "#df.stop_nhbr.value_counts() -- this returned 'East Village' as the mode\n",
    "df.stop_nhbr.fillna('East Village',inplace=True)"
   ]
  },
  {
   "cell_type": "markdown",
   "metadata": {},
   "source": [
    "### We should look at the pair plot of this data to get an idea for what our data looks like"
   ]
  },
  {
   "cell_type": "code",
   "execution_count": null,
   "metadata": {
    "collapsed": true
   },
   "outputs": [],
   "source": []
  },
  {
   "cell_type": "markdown",
   "metadata": {},
   "source": [
    "### Dealing with birth year joks\n",
    "If you look at the birth year there appears to be a big spike in our distribution at __1969__. So, to handle all these jokes what we will try to do is for all the 1969 values we will take the averge age of these stop neighborhoods--without the 69's and replace the 69's with the birth year that corresponds to their neighborhood."
   ]
  },
  {
   "cell_type": "code",
   "execution_count": 44,
   "metadata": {},
   "outputs": [
    {
     "data": {
      "text/plain": [
       "<matplotlib.axes._subplots.AxesSubplot at 0x1a105d2cc0>"
      ]
     },
     "execution_count": 44,
     "metadata": {},
     "output_type": "execute_result"
    },
    {
     "data": {
      "image/png": "[encoded data removed]",
      "text/plain": [
       "<Figure size 432x288 with 1 Axes>"
      ]
     },
     "metadata": {},
     "output_type": "display_data"
    }
   ],
   "source": [
    "%matplotlib inline\n",
    "sns.distplot(df['birth year'])"
   ]
  },
  {
   "cell_type": "markdown",
   "metadata": {},
   "source": [
    "Create a DataFrame with all the median ages of each stop neighborhood, we will then replace the 1969 values for these. "
   ]
  },
  {
   "cell_type": "code",
   "execution_count": 123,
   "metadata": {},
   "outputs": [],
   "source": [
    "median_birthyear_no_69 = pd.DataFrame(df[df['birth year'] != 1969 ].groupby('stop_nhbr')['birth year'].median())"
   ]
  },
  {
   "cell_type": "code",
   "execution_count": 124,
   "metadata": {},
   "outputs": [
    {
     "data": {
      "text/html": [
       "<div>\n",
       "<style scoped>\n",
       "    .dataframe tbody tr th:only-of-type {\n",
       "        vertical-align: middle;\n",
       "    }\n",
       "\n",
       "    .dataframe tbody tr th {\n",
       "        vertical-align: top;\n",
       "    }\n",
       "\n",
       "    .dataframe thead th {\n",
       "        text-align: right;\n",
       "    }\n",
       "</style>\n",
       "<table border=\"1\" class=\"dataframe\">\n",
       "  <thead>\n",
       "    <tr style=\"text-align: right;\">\n",
       "      <th></th>\n",
       "      <th>stop_nhbr</th>\n",
       "      <th>birth year</th>\n",
       "    </tr>\n",
       "  </thead>\n",
       "  <tbody>\n",
       "    <tr>\n",
       "      <th>0</th>\n",
       "      <td>Astoria</td>\n",
       "      <td>1985</td>\n",
       "    </tr>\n",
       "    <tr>\n",
       "      <th>1</th>\n",
       "      <td>Battery Park</td>\n",
       "      <td>1983</td>\n",
       "    </tr>\n",
       "    <tr>\n",
       "      <th>2</th>\n",
       "      <td>Bedford Stuyvesant</td>\n",
       "      <td>1983</td>\n",
       "    </tr>\n",
       "    <tr>\n",
       "      <th>3</th>\n",
       "      <td>Boerum Hill</td>\n",
       "      <td>1983</td>\n",
       "    </tr>\n",
       "    <tr>\n",
       "      <th>4</th>\n",
       "      <td>Brooklyn Heights</td>\n",
       "      <td>1983</td>\n",
       "    </tr>\n",
       "  </tbody>\n",
       "</table>\n",
       "</div>"
      ],
      "text/plain": [
       "            stop_nhbr  birth year\n",
       "0             Astoria        1985\n",
       "1        Battery Park        1983\n",
       "2  Bedford Stuyvesant        1983\n",
       "3         Boerum Hill        1983\n",
       "4    Brooklyn Heights        1983"
      ]
     },
     "execution_count": 124,
     "metadata": {},
     "output_type": "execute_result"
    }
   ],
   "source": [
    "median_birthyear_no_69.reset_index(inplace=True) \n",
    "median_birthyear_no_69.head()"
   ]
  },
  {
   "cell_type": "code",
   "execution_count": 125,
   "metadata": {
    "collapsed": true
   },
   "outputs": [],
   "source": [
    "def change_birth_year(row,med_age_df):\n",
    "    '''\n",
    "    This function will be applied to each row, where ever there is a 1969 we will replace it with the birth year \n",
    "    from median_birthyear_no_69 which matches with our stop neighborhood\n",
    "    '''\n",
    "    if row['birth year'] == 1969:\n",
    "        year = med_age_df[med_age_df['stop_nhbr']== row['stop_nhbr']]['birth year']\n",
    "        return year.item()\n",
    "    else:\n",
    "        return row['birth year']"
   ]
  },
  {
   "cell_type": "markdown",
   "metadata": {},
   "source": [
    "### create a new column with the new birth years"
   ]
  },
  {
   "cell_type": "code",
   "execution_count": 126,
   "metadata": {
    "collapsed": true
   },
   "outputs": [],
   "source": [
    "df['update_birth_yr'] = df.apply(lambda row: change_birth_year(row,median_birthyear_no_69),axis=1)"
   ]
  },
  {
   "cell_type": "code",
   "execution_count": 138,
   "metadata": {},
   "outputs": [
    {
     "data": {
      "text/html": [
       "<div>\n",
       "<style scoped>\n",
       "    .dataframe tbody tr th:only-of-type {\n",
       "        vertical-align: middle;\n",
       "    }\n",
       "\n",
       "    .dataframe tbody tr th {\n",
       "        vertical-align: top;\n",
       "    }\n",
       "\n",
       "    .dataframe thead th {\n",
       "        text-align: right;\n",
       "    }\n",
       "</style>\n",
       "<table border=\"1\" class=\"dataframe\">\n",
       "  <thead>\n",
       "    <tr style=\"text-align: right;\">\n",
       "      <th></th>\n",
       "      <th>tripduration</th>\n",
       "      <th>start station id</th>\n",
       "      <th>usertype</th>\n",
       "      <th>birth year</th>\n",
       "      <th>gender</th>\n",
       "      <th>start_month</th>\n",
       "      <th>start_day_of_week</th>\n",
       "      <th>start_hour</th>\n",
       "      <th>ave_temp</th>\n",
       "      <th>precip</th>\n",
       "      <th>snow_depth</th>\n",
       "      <th>stop_nhbr</th>\n",
       "      <th>update_birth_yr</th>\n",
       "    </tr>\n",
       "  </thead>\n",
       "  <tbody>\n",
       "    <tr>\n",
       "      <th>0</th>\n",
       "      <td>556</td>\n",
       "      <td>518.0</td>\n",
       "      <td>1</td>\n",
       "      <td>1965</td>\n",
       "      <td>1</td>\n",
       "      <td>1</td>\n",
       "      <td>1</td>\n",
       "      <td>7</td>\n",
       "      <td>19.5</td>\n",
       "      <td>0.00</td>\n",
       "      <td>0</td>\n",
       "      <td>Tribeca</td>\n",
       "      <td>1965</td>\n",
       "    </tr>\n",
       "    <tr>\n",
       "      <th>1</th>\n",
       "      <td>689</td>\n",
       "      <td>539.0</td>\n",
       "      <td>1</td>\n",
       "      <td>1988</td>\n",
       "      <td>1</td>\n",
       "      <td>1</td>\n",
       "      <td>0</td>\n",
       "      <td>11</td>\n",
       "      <td>43.5</td>\n",
       "      <td>0.01</td>\n",
       "      <td>0</td>\n",
       "      <td>Park Slope</td>\n",
       "      <td>1988</td>\n",
       "    </tr>\n",
       "    <tr>\n",
       "      <th>2</th>\n",
       "      <td>1649</td>\n",
       "      <td>366.0</td>\n",
       "      <td>1</td>\n",
       "      <td>1982</td>\n",
       "      <td>2</td>\n",
       "      <td>1</td>\n",
       "      <td>6</td>\n",
       "      <td>11</td>\n",
       "      <td>46.0</td>\n",
       "      <td>0.00</td>\n",
       "      <td>0</td>\n",
       "      <td>Clinton Hill</td>\n",
       "      <td>1982</td>\n",
       "    </tr>\n",
       "    <tr>\n",
       "      <th>3</th>\n",
       "      <td>467</td>\n",
       "      <td>387.0</td>\n",
       "      <td>0</td>\n",
       "      <td>1969</td>\n",
       "      <td>0</td>\n",
       "      <td>1</td>\n",
       "      <td>5</td>\n",
       "      <td>22</td>\n",
       "      <td>45.5</td>\n",
       "      <td>0.00</td>\n",
       "      <td>0</td>\n",
       "      <td>Clinton</td>\n",
       "      <td>1983</td>\n",
       "    </tr>\n",
       "    <tr>\n",
       "      <th>4</th>\n",
       "      <td>665</td>\n",
       "      <td>540.0</td>\n",
       "      <td>1</td>\n",
       "      <td>1982</td>\n",
       "      <td>1</td>\n",
       "      <td>1</td>\n",
       "      <td>0</td>\n",
       "      <td>13</td>\n",
       "      <td>43.5</td>\n",
       "      <td>0.01</td>\n",
       "      <td>0</td>\n",
       "      <td>East Village</td>\n",
       "      <td>1982</td>\n",
       "    </tr>\n",
       "  </tbody>\n",
       "</table>\n",
       "</div>"
      ],
      "text/plain": [
       "   tripduration  start station id  usertype  birth year  gender  start_month  \\\n",
       "0           556             518.0         1        1965       1            1   \n",
       "1           689             539.0         1        1988       1            1   \n",
       "2          1649             366.0         1        1982       2            1   \n",
       "3           467             387.0         0        1969       0            1   \n",
       "4           665             540.0         1        1982       1            1   \n",
       "\n",
       "   start_day_of_week  start_hour  ave_temp  precip  snow_depth     stop_nhbr  \\\n",
       "0                  1           7      19.5    0.00           0       Tribeca   \n",
       "1                  0          11      43.5    0.01           0    Park Slope   \n",
       "2                  6          11      46.0    0.00           0  Clinton Hill   \n",
       "3                  5          22      45.5    0.00           0       Clinton   \n",
       "4                  0          13      43.5    0.01           0  East Village   \n",
       "\n",
       "   update_birth_yr  \n",
       "0             1965  \n",
       "1             1988  \n",
       "2             1982  \n",
       "3             1983  \n",
       "4             1982  "
      ]
     },
     "execution_count": 138,
     "metadata": {},
     "output_type": "execute_result"
    }
   ],
   "source": [
    "df.head()"
   ]
  },
  {
   "cell_type": "code",
   "execution_count": 139,
   "metadata": {},
   "outputs": [
    {
     "data": {
      "text/plain": [
       "<matplotlib.axes._subplots.AxesSubplot at 0x1a1eade2b0>"
      ]
     },
     "execution_count": 139,
     "metadata": {},
     "output_type": "execute_result"
    },
    {
     "data": {
      "image/png": "[encoded data removed]",
      "text/plain": [
       "<Figure size 432x288 with 1 Axes>"
      ]
     },
     "metadata": {},
     "output_type": "display_data"
    }
   ],
   "source": [
    "sns.distplot(df.update_birth_yr)"
   ]
  },
  {
   "cell_type": "markdown",
   "metadata": {},
   "source": [
    "Let's do it now with 1969 still included:"
   ]
  },
  {
   "cell_type": "code",
   "execution_count": 140,
   "metadata": {},
   "outputs": [
    {
     "data": {
      "text/html": [
       "<div>\n",
       "<style scoped>\n",
       "    .dataframe tbody tr th:only-of-type {\n",
       "        vertical-align: middle;\n",
       "    }\n",
       "\n",
       "    .dataframe tbody tr th {\n",
       "        vertical-align: top;\n",
       "    }\n",
       "\n",
       "    .dataframe thead th {\n",
       "        text-align: right;\n",
       "    }\n",
       "</style>\n",
       "<table border=\"1\" class=\"dataframe\">\n",
       "  <thead>\n",
       "    <tr style=\"text-align: right;\">\n",
       "      <th></th>\n",
       "      <th>stop_nhbr</th>\n",
       "      <th>birth year</th>\n",
       "    </tr>\n",
       "  </thead>\n",
       "  <tbody>\n",
       "    <tr>\n",
       "      <th>0</th>\n",
       "      <td>Astoria</td>\n",
       "      <td>1984</td>\n",
       "    </tr>\n",
       "    <tr>\n",
       "      <th>1</th>\n",
       "      <td>Battery Park</td>\n",
       "      <td>1981</td>\n",
       "    </tr>\n",
       "    <tr>\n",
       "      <th>2</th>\n",
       "      <td>Bedford Stuyvesant</td>\n",
       "      <td>1981</td>\n",
       "    </tr>\n",
       "    <tr>\n",
       "      <th>3</th>\n",
       "      <td>Boerum Hill</td>\n",
       "      <td>1981</td>\n",
       "    </tr>\n",
       "    <tr>\n",
       "      <th>4</th>\n",
       "      <td>Brooklyn Heights</td>\n",
       "      <td>1982</td>\n",
       "    </tr>\n",
       "  </tbody>\n",
       "</table>\n",
       "</div>"
      ],
      "text/plain": [
       "            stop_nhbr  birth year\n",
       "0             Astoria        1984\n",
       "1        Battery Park        1981\n",
       "2  Bedford Stuyvesant        1981\n",
       "3         Boerum Hill        1981\n",
       "4    Brooklyn Heights        1982"
      ]
     },
     "execution_count": 140,
     "metadata": {},
     "output_type": "execute_result"
    }
   ],
   "source": [
    "median_birthyear = pd.DataFrame(df.groupby('stop_nhbr')['birth year'].median())\n",
    "median_birthyear.reset_index(inplace=True) \n",
    "median_birthyear.head()"
   ]
  },
  {
   "cell_type": "code",
   "execution_count": 141,
   "metadata": {
    "collapsed": true
   },
   "outputs": [],
   "source": [
    "df['update_birth_yr_2'] = df.apply(lambda row: change_birth_year(row,median_birthyear),axis=1)"
   ]
  },
  {
   "cell_type": "code",
   "execution_count": 142,
   "metadata": {},
   "outputs": [
    {
     "data": {
      "text/plain": [
       "<matplotlib.axes._subplots.AxesSubplot at 0x1aa3d33be0>"
      ]
     },
     "execution_count": 142,
     "metadata": {},
     "output_type": "execute_result"
    },
    {
     "data": {
      "image/png": "[encoded data removed]",
      "text/plain": [
       "<Figure size 432x288 with 1 Axes>"
      ]
     },
     "metadata": {},
     "output_type": "display_data"
    }
   ],
   "source": [
    "sns.distplot(df.update_birth_yr_2)"
   ]
  },
  {
   "cell_type": "code",
   "execution_count": 143,
   "metadata": {
    "collapsed": true
   },
   "outputs": [],
   "source": [
    "k2_1, p_1 = stats.normaltest(df.update_birth_yr)\n",
    "k2_2, p_2 = stats.normaltest(df.update_birth_yr_2)"
   ]
  },
  {
   "cell_type": "code",
   "execution_count": 144,
   "metadata": {},
   "outputs": [
    {
     "name": "stdout",
     "output_type": "stream",
     "text": [
      "P (no 69): 0.0\n",
      "P wo 69): 0.0\n"
     ]
    }
   ],
   "source": [
    "print(f'P (no 69): {p_1}',f'P wo 69): {p_2}',sep='\\n')"
   ]
  },
  {
   "cell_type": "markdown",
   "metadata": {},
   "source": [
    "### Lets drop the tripduration and original birth year columns, they didn't help the models"
   ]
  },
  {
   "cell_type": "code",
   "execution_count": 154,
   "metadata": {},
   "outputs": [],
   "source": [
    "df.drop(['tripduration','birth year'],axis=1,inplace=True)"
   ]
  },
  {
   "cell_type": "markdown",
   "metadata": {},
   "source": [
    "Save this new and updated DataFrame before we bin all these ages"
   ]
  },
  {
   "cell_type": "code",
   "execution_count": 155,
   "metadata": {},
   "outputs": [],
   "source": [
    "df.to_csv('citibike_data_update_b_yr.csv')"
   ]
  },
  {
   "cell_type": "code",
   "execution_count": null,
   "metadata": {},
   "outputs": [],
   "source": [
    "df = pd.read_csv('citibike_data_update_b_yr.csv')"
   ]
  },
  {
   "cell_type": "markdown",
   "metadata": {},
   "source": [
    "First, we used a list comprehension to create the labels and distances of the cuts. Then, we set the min and max values for our ranges!\n"
   ]
  },
  {
   "cell_type": "code",
   "execution_count": 4,
   "metadata": {},
   "outputs": [],
   "source": [
    "min_yr, max_yr = df.update_birth_yr_2.min(),df.update_birth_yr_2.max()\n",
    "year_ranges = [\"{0} - {1}\".format(age, age + 7) for age in range(min_yr, max_yr, 8)]\n",
    "n_year_ranges = len(year_ranges)"
   ]
  },
  {
   "cell_type": "markdown",
   "metadata": {},
   "source": [
    "Based on our histograms, we are going to use the column __'update_birth_yr_2'__ for this binning process."
   ]
  },
  {
   "cell_type": "code",
   "execution_count": 5,
   "metadata": {},
   "outputs": [],
   "source": [
    "df['birth_yr_range'] = pd.cut(x=df['update_birth_yr_2'], bins=n_year_ranges, labels=year_ranges)"
   ]
  },
  {
   "cell_type": "code",
   "execution_count": 6,
   "metadata": {},
   "outputs": [
    {
     "data": {
      "text/html": [
       "<div>\n",
       "<style scoped>\n",
       "    .dataframe tbody tr th:only-of-type {\n",
       "        vertical-align: middle;\n",
       "    }\n",
       "\n",
       "    .dataframe tbody tr th {\n",
       "        vertical-align: top;\n",
       "    }\n",
       "\n",
       "    .dataframe thead th {\n",
       "        text-align: right;\n",
       "    }\n",
       "</style>\n",
       "<table border=\"1\" class=\"dataframe\">\n",
       "  <thead>\n",
       "    <tr style=\"text-align: right;\">\n",
       "      <th></th>\n",
       "      <th>Unnamed: 0</th>\n",
       "      <th>start station id</th>\n",
       "      <th>usertype</th>\n",
       "      <th>gender</th>\n",
       "      <th>start_month</th>\n",
       "      <th>start_day_of_week</th>\n",
       "      <th>start_hour</th>\n",
       "      <th>ave_temp</th>\n",
       "      <th>precip</th>\n",
       "      <th>snow_depth</th>\n",
       "      <th>stop_nhbr</th>\n",
       "      <th>update_birth_yr</th>\n",
       "      <th>update_birth_yr_2</th>\n",
       "      <th>birth_yr_range</th>\n",
       "    </tr>\n",
       "  </thead>\n",
       "  <tbody>\n",
       "    <tr>\n",
       "      <th>0</th>\n",
       "      <td>0</td>\n",
       "      <td>518.0</td>\n",
       "      <td>1</td>\n",
       "      <td>1</td>\n",
       "      <td>1</td>\n",
       "      <td>1</td>\n",
       "      <td>7</td>\n",
       "      <td>19.5</td>\n",
       "      <td>0.00</td>\n",
       "      <td>0</td>\n",
       "      <td>Tribeca</td>\n",
       "      <td>1965</td>\n",
       "      <td>1965</td>\n",
       "      <td>1964 - 1971</td>\n",
       "    </tr>\n",
       "    <tr>\n",
       "      <th>1</th>\n",
       "      <td>1</td>\n",
       "      <td>539.0</td>\n",
       "      <td>1</td>\n",
       "      <td>1</td>\n",
       "      <td>1</td>\n",
       "      <td>0</td>\n",
       "      <td>11</td>\n",
       "      <td>43.5</td>\n",
       "      <td>0.01</td>\n",
       "      <td>0</td>\n",
       "      <td>Park Slope</td>\n",
       "      <td>1988</td>\n",
       "      <td>1988</td>\n",
       "      <td>1988 - 1995</td>\n",
       "    </tr>\n",
       "    <tr>\n",
       "      <th>2</th>\n",
       "      <td>2</td>\n",
       "      <td>366.0</td>\n",
       "      <td>1</td>\n",
       "      <td>2</td>\n",
       "      <td>1</td>\n",
       "      <td>6</td>\n",
       "      <td>11</td>\n",
       "      <td>46.0</td>\n",
       "      <td>0.00</td>\n",
       "      <td>0</td>\n",
       "      <td>Clinton Hill</td>\n",
       "      <td>1982</td>\n",
       "      <td>1982</td>\n",
       "      <td>1980 - 1987</td>\n",
       "    </tr>\n",
       "    <tr>\n",
       "      <th>3</th>\n",
       "      <td>3</td>\n",
       "      <td>387.0</td>\n",
       "      <td>0</td>\n",
       "      <td>0</td>\n",
       "      <td>1</td>\n",
       "      <td>5</td>\n",
       "      <td>22</td>\n",
       "      <td>45.5</td>\n",
       "      <td>0.00</td>\n",
       "      <td>0</td>\n",
       "      <td>Clinton</td>\n",
       "      <td>1983</td>\n",
       "      <td>1980</td>\n",
       "      <td>1980 - 1987</td>\n",
       "    </tr>\n",
       "    <tr>\n",
       "      <th>4</th>\n",
       "      <td>4</td>\n",
       "      <td>540.0</td>\n",
       "      <td>1</td>\n",
       "      <td>1</td>\n",
       "      <td>1</td>\n",
       "      <td>0</td>\n",
       "      <td>13</td>\n",
       "      <td>43.5</td>\n",
       "      <td>0.01</td>\n",
       "      <td>0</td>\n",
       "      <td>East Village</td>\n",
       "      <td>1982</td>\n",
       "      <td>1982</td>\n",
       "      <td>1980 - 1987</td>\n",
       "    </tr>\n",
       "  </tbody>\n",
       "</table>\n",
       "</div>"
      ],
      "text/plain": [
       "   Unnamed: 0  start station id  usertype  gender  start_month  \\\n",
       "0           0             518.0         1       1            1   \n",
       "1           1             539.0         1       1            1   \n",
       "2           2             366.0         1       2            1   \n",
       "3           3             387.0         0       0            1   \n",
       "4           4             540.0         1       1            1   \n",
       "\n",
       "   start_day_of_week  start_hour  ave_temp  precip  snow_depth     stop_nhbr  \\\n",
       "0                  1           7      19.5    0.00           0       Tribeca   \n",
       "1                  0          11      43.5    0.01           0    Park Slope   \n",
       "2                  6          11      46.0    0.00           0  Clinton Hill   \n",
       "3                  5          22      45.5    0.00           0       Clinton   \n",
       "4                  0          13      43.5    0.01           0  East Village   \n",
       "\n",
       "   update_birth_yr  update_birth_yr_2 birth_yr_range  \n",
       "0             1965               1965    1964 - 1971  \n",
       "1             1988               1988    1988 - 1995  \n",
       "2             1982               1982    1980 - 1987  \n",
       "3             1983               1980    1980 - 1987  \n",
       "4             1982               1982    1980 - 1987  "
      ]
     },
     "execution_count": 6,
     "metadata": {},
     "output_type": "execute_result"
    }
   ],
   "source": [
    "df.head()"
   ]
  },
  {
   "cell_type": "code",
   "execution_count": 8,
   "metadata": {},
   "outputs": [],
   "source": [
    "df.drop(['Unnamed: 0'],axis=1,inplace=True)"
   ]
  },
  {
   "cell_type": "markdown",
   "metadata": {},
   "source": [
    "#### Our birth year ranges have now been created, so we drop the unneeded columns and save our new file"
   ]
  },
  {
   "cell_type": "code",
   "execution_count": 9,
   "metadata": {
    "collapsed": true
   },
   "outputs": [],
   "source": [
    "df.drop(['update_birth_yr', 'update_birth_yr_2'],axis=1,inplace=True)"
   ]
  },
  {
   "cell_type": "code",
   "execution_count": 11,
   "metadata": {},
   "outputs": [
    {
     "data": {
      "text/html": [
       "<div>\n",
       "<style scoped>\n",
       "    .dataframe tbody tr th:only-of-type {\n",
       "        vertical-align: middle;\n",
       "    }\n",
       "\n",
       "    .dataframe tbody tr th {\n",
       "        vertical-align: top;\n",
       "    }\n",
       "\n",
       "    .dataframe thead th {\n",
       "        text-align: right;\n",
       "    }\n",
       "</style>\n",
       "<table border=\"1\" class=\"dataframe\">\n",
       "  <thead>\n",
       "    <tr style=\"text-align: right;\">\n",
       "      <th></th>\n",
       "      <th>start station id</th>\n",
       "      <th>usertype</th>\n",
       "      <th>gender</th>\n",
       "      <th>start_month</th>\n",
       "      <th>start_day_of_week</th>\n",
       "      <th>start_hour</th>\n",
       "      <th>ave_temp</th>\n",
       "      <th>precip</th>\n",
       "      <th>snow_depth</th>\n",
       "      <th>stop_nhbr</th>\n",
       "      <th>birth_yr_range</th>\n",
       "    </tr>\n",
       "  </thead>\n",
       "  <tbody>\n",
       "    <tr>\n",
       "      <th>0</th>\n",
       "      <td>518.0</td>\n",
       "      <td>1</td>\n",
       "      <td>1</td>\n",
       "      <td>1</td>\n",
       "      <td>1</td>\n",
       "      <td>7</td>\n",
       "      <td>19.5</td>\n",
       "      <td>0.00</td>\n",
       "      <td>0</td>\n",
       "      <td>Tribeca</td>\n",
       "      <td>1964 - 1971</td>\n",
       "    </tr>\n",
       "    <tr>\n",
       "      <th>1</th>\n",
       "      <td>539.0</td>\n",
       "      <td>1</td>\n",
       "      <td>1</td>\n",
       "      <td>1</td>\n",
       "      <td>0</td>\n",
       "      <td>11</td>\n",
       "      <td>43.5</td>\n",
       "      <td>0.01</td>\n",
       "      <td>0</td>\n",
       "      <td>Park Slope</td>\n",
       "      <td>1988 - 1995</td>\n",
       "    </tr>\n",
       "    <tr>\n",
       "      <th>2</th>\n",
       "      <td>366.0</td>\n",
       "      <td>1</td>\n",
       "      <td>2</td>\n",
       "      <td>1</td>\n",
       "      <td>6</td>\n",
       "      <td>11</td>\n",
       "      <td>46.0</td>\n",
       "      <td>0.00</td>\n",
       "      <td>0</td>\n",
       "      <td>Clinton Hill</td>\n",
       "      <td>1980 - 1987</td>\n",
       "    </tr>\n",
       "    <tr>\n",
       "      <th>3</th>\n",
       "      <td>387.0</td>\n",
       "      <td>0</td>\n",
       "      <td>0</td>\n",
       "      <td>1</td>\n",
       "      <td>5</td>\n",
       "      <td>22</td>\n",
       "      <td>45.5</td>\n",
       "      <td>0.00</td>\n",
       "      <td>0</td>\n",
       "      <td>Clinton</td>\n",
       "      <td>1980 - 1987</td>\n",
       "    </tr>\n",
       "    <tr>\n",
       "      <th>4</th>\n",
       "      <td>540.0</td>\n",
       "      <td>1</td>\n",
       "      <td>1</td>\n",
       "      <td>1</td>\n",
       "      <td>0</td>\n",
       "      <td>13</td>\n",
       "      <td>43.5</td>\n",
       "      <td>0.01</td>\n",
       "      <td>0</td>\n",
       "      <td>East Village</td>\n",
       "      <td>1980 - 1987</td>\n",
       "    </tr>\n",
       "  </tbody>\n",
       "</table>\n",
       "</div>"
      ],
      "text/plain": [
       "   start station id  usertype  gender  start_month  start_day_of_week  \\\n",
       "0             518.0         1       1            1                  1   \n",
       "1             539.0         1       1            1                  0   \n",
       "2             366.0         1       2            1                  6   \n",
       "3             387.0         0       0            1                  5   \n",
       "4             540.0         1       1            1                  0   \n",
       "\n",
       "   start_hour  ave_temp  precip  snow_depth     stop_nhbr birth_yr_range  \n",
       "0           7      19.5    0.00           0       Tribeca    1964 - 1971  \n",
       "1          11      43.5    0.01           0    Park Slope    1988 - 1995  \n",
       "2          11      46.0    0.00           0  Clinton Hill    1980 - 1987  \n",
       "3          22      45.5    0.00           0       Clinton    1980 - 1987  \n",
       "4          13      43.5    0.01           0  East Village    1980 - 1987  "
      ]
     },
     "execution_count": 11,
     "metadata": {},
     "output_type": "execute_result"
    }
   ],
   "source": [
    "df.head()"
   ]
  },
  {
   "cell_type": "code",
   "execution_count": 178,
   "metadata": {},
   "outputs": [
    {
     "data": {
      "text/plain": [
       "1980 - 1987    569274\n",
       "1988 - 1995    500865\n",
       "1972 - 1979    221066\n",
       "1964 - 1971    183004\n",
       "1956 - 1963    135523\n",
       "1996 - 2003     89505\n",
       "1948 - 1955     43872\n",
       "1940 - 1947      9072\n",
       "Name: birth_yr_range, dtype: int64"
      ]
     },
     "execution_count": 178,
     "metadata": {},
     "output_type": "execute_result"
    }
   ],
   "source": [
    "df.birth_yr_range.value_counts()"
   ]
  },
  {
   "cell_type": "code",
   "execution_count": 12,
   "metadata": {
    "collapsed": true
   },
   "outputs": [],
   "source": [
    "df.to_csv('citibike_data_update.csv')"
   ]
  },
  {
   "cell_type": "markdown",
   "metadata": {},
   "source": [
    "Lets bin the data by the times of day people are leaving: __from midnight to 12pm, from 12pm to midnight.__"
   ]
  },
  {
   "cell_type": "code",
   "execution_count": 14,
   "metadata": {},
   "outputs": [
    {
     "data": {
      "text/plain": [
       "0"
      ]
     },
     "execution_count": 14,
     "metadata": {},
     "output_type": "execute_result"
    }
   ],
   "source": [
    "df.start_hour.min()"
   ]
  },
  {
   "cell_type": "code",
   "execution_count": 29,
   "metadata": {
    "collapsed": true
   },
   "outputs": [],
   "source": [
    "min_hr, max_hr = df.start_hour.min(),df.start_hour.max()\n",
    "hr_ranges = [\"{0} - {1}\".format(age, age + 11) for age in range(min_hr, max_hr, 12)]\n",
    "n_hr_ranges = len(hr_ranges)"
   ]
  },
  {
   "cell_type": "code",
   "execution_count": 30,
   "metadata": {},
   "outputs": [],
   "source": [
    "df['start_hr_range'] = pd.cut(x=df.start_hour, bins=n_hr_ranges, labels=hr_ranges)"
   ]
  },
  {
   "cell_type": "code",
   "execution_count": 32,
   "metadata": {},
   "outputs": [],
   "source": [
    "df.to_csv('new_2018_citibike_data.cvs')"
   ]
  },
  {
   "cell_type": "markdown",
   "metadata": {},
   "source": []
  }
 ],
 "metadata": {
  "kernelspec": {
   "display_name": "Python 3",
   "language": "python",
   "name": "python3"
  },
  "language_info": {
   "codemirror_mode": {
    "name": "ipython",
    "version": 3
   },
   "file_extension": ".py",
   "mimetype": "text/x-python",
   "name": "python",
   "nbconvert_exporter": "python",
   "pygments_lexer": "ipython3",
   "version": "3.6.8"
  }
 },
 "nbformat": 4,
 "nbformat_minor": 2
}
