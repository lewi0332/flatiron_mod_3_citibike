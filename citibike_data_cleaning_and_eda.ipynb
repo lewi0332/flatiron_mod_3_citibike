{
 "cells": [
  {
   "cell_type": "markdown",
   "metadata": {},
   "source": [
    "# CitiBike Destination Predictor"
   ]
  },
  {
   "cell_type": "markdown",
   "metadata": {},
   "source": [
    "This project is a collaboration between [Elena Morais](https://github.com/elenasm7) and [Derrick Lewis](https://github.com/lewi0332)\n",
    "\n",
    "The project requirements are to find and clean data to be fit to a classification algorithm to make predictions on the outcome. \n",
    "\n",
    "We chose to use data from CitiBike of all trips in 2018. This data includes time, start/stop locations, and some basic demographic identifiers. To aid in our perdiction we added daily weather information of New York City. \n",
    "\n",
    "- Trip Duration (seconds)\n",
    "- Start Time and Date\n",
    "- Stop Time and Date\n",
    "- Start Station Name\n",
    "- End Station Name\n",
    "- Station ID\n",
    "- Station Lat/Long\n",
    "- Bike ID\n",
    "- User Type (Customer = 24-hour pass or 3-day pass user; Subscriber = Annual Member)\n",
    "- Gender (Zero=unknown; 1=male; 2=female)\n",
    "- Year of Birth\n",
    "\n",
    "The goal is to perdict the destination neighborhood of each journey based on the available variables. This is a multi-classification problem with a high number of outcomes. We determined that there are 51 qualifying neighborhoods in New York, which presents a sigificant challenge. \n"
   ]
  },
  {
   "cell_type": "markdown",
   "metadata": {},
   "source": [
    "## Data Collection and Cleaning\n",
    "\n",
    "First we collected 1 year worth of trip data from Cibibike.com. We learn that there are 17million records in the 2018 data, which is too large for our processing capbabilities. Thus we import each month of data, and randomly sample 10% from each month to create a more manageable, yet representative list. "
   ]
  },
  {
   "cell_type": "code",
   "execution_count": 1,
   "metadata": {
    "collapsed": true
   },
   "outputs": [],
   "source": [
    "import pandas as pd\n",
    "import seaborn as sns\n",
    "import matplotlib.pyplot as plt\n",
    "%matplotlib inline"
   ]
  },
  {
   "cell_type": "code",
   "execution_count": 2,
   "metadata": {},
   "outputs": [],
   "source": [
    "for i in range(1,13):\n",
    "    if i == 1:\n",
    "        big = pd.read_csv('citibike_data/2018'+ str(i).zfill(2)+'-citibike-tripdata.csv')\n",
    "        big = big.sample(frac=.1)\n",
    "    else:\n",
    "        temp = pd.read_csv('citibike_data/2018'+ str(i).zfill(2)+'-citibike-tripdata.csv')\n",
    "        big = pd.concat([big, temp.sample(frac=.1)])"
   ]
  },
  {
   "cell_type": "code",
   "execution_count": 3,
   "metadata": {},
   "outputs": [
    {
     "data": {
      "text/plain": [
       "(1754832, 15)"
      ]
     },
     "execution_count": 3,
     "metadata": {},
     "output_type": "execute_result"
    }
   ],
   "source": [
    "big.shape"
   ]
  },
  {
   "cell_type": "markdown",
   "metadata": {},
   "source": [
    "### NAN values\n",
    "\n",
    "There are just 260 NaN values missing the station start and end points in the file of nearly 1.8million. This information is crucial to the prediction and thus can not be substituted. We have decidied to simply remove these rows. "
   ]
  },
  {
   "cell_type": "code",
   "execution_count": 4,
   "metadata": {},
   "outputs": [
    {
     "data": {
      "text/plain": [
       "tripduration                 0\n",
       "starttime                    0\n",
       "stoptime                     0\n",
       "start station id           267\n",
       "start station name         267\n",
       "start station latitude       0\n",
       "start station longitude      0\n",
       "end station id             267\n",
       "end station name           267\n",
       "end station latitude         0\n",
       "end station longitude        0\n",
       "bikeid                       0\n",
       "usertype                     0\n",
       "birth year                   0\n",
       "gender                       0\n",
       "dtype: int64"
      ]
     },
     "execution_count": 4,
     "metadata": {},
     "output_type": "execute_result"
    }
   ],
   "source": [
    "big.isnull().sum()"
   ]
  },
  {
   "cell_type": "code",
   "execution_count": 5,
   "metadata": {
    "collapsed": true
   },
   "outputs": [],
   "source": [
    "big = big.dropna()"
   ]
  },
  {
   "cell_type": "code",
   "execution_count": null,
   "metadata": {},
   "outputs": [],
   "source": [
    "big.isnull().sum()"
   ]
  },
  {
   "cell_type": "markdown",
   "metadata": {},
   "source": [
    "### Convert to DateTime \n",
    "\n",
    "Start and End times are saved in a format that is not readable by Pandas or our future models. We will convert the columns with this information into a standard date format, then split the relevant information into individual columns to be used as a specific independant variable."
   ]
  },
  {
   "cell_type": "code",
   "execution_count": 6,
   "metadata": {
    "collapsed": true
   },
   "outputs": [],
   "source": [
    "big['starttime'] = pd.to_datetime(big['starttime'])\n",
    "big['start_month'] = big.starttime.dt.month\n",
    "big['start_day_of_week'] = big.starttime.dt.dayofweek\n",
    "big['start_hour'] = big.starttime.dt.hour\n",
    "big['start_date'] = big.starttime.dt.day\n",
    "\n",
    "big['starttime'] = big.starttime.dt.date\n",
    "big['starttime'] = pd.to_datetime(big['starttime'])\n"
   ]
  },
  {
   "cell_type": "code",
   "execution_count": 7,
   "metadata": {},
   "outputs": [
    {
     "data": {
      "text/html": [
       "<div>\n",
       "<style scoped>\n",
       "    .dataframe tbody tr th:only-of-type {\n",
       "        vertical-align: middle;\n",
       "    }\n",
       "\n",
       "    .dataframe tbody tr th {\n",
       "        vertical-align: top;\n",
       "    }\n",
       "\n",
       "    .dataframe thead th {\n",
       "        text-align: right;\n",
       "    }\n",
       "</style>\n",
       "<table border=\"1\" class=\"dataframe\">\n",
       "  <thead>\n",
       "    <tr style=\"text-align: right;\">\n",
       "      <th></th>\n",
       "      <th>tripduration</th>\n",
       "      <th>starttime</th>\n",
       "      <th>stoptime</th>\n",
       "      <th>start station id</th>\n",
       "      <th>start station name</th>\n",
       "      <th>start station latitude</th>\n",
       "      <th>start station longitude</th>\n",
       "      <th>end station id</th>\n",
       "      <th>end station name</th>\n",
       "      <th>end station latitude</th>\n",
       "      <th>end station longitude</th>\n",
       "      <th>bikeid</th>\n",
       "      <th>usertype</th>\n",
       "      <th>birth year</th>\n",
       "      <th>gender</th>\n",
       "      <th>start_month</th>\n",
       "      <th>start_day_of_week</th>\n",
       "      <th>start_hour</th>\n",
       "      <th>start_date</th>\n",
       "    </tr>\n",
       "  </thead>\n",
       "  <tbody>\n",
       "    <tr>\n",
       "      <th>561069</th>\n",
       "      <td>459</td>\n",
       "      <td>2018-01-09</td>\n",
       "      <td>2018-01-09 14:56:17.6960</td>\n",
       "      <td>3242.0</td>\n",
       "      <td>Schermerhorn St &amp; Court St</td>\n",
       "      <td>40.691029</td>\n",
       "      <td>-73.991834</td>\n",
       "      <td>3382.0</td>\n",
       "      <td>Carroll St &amp; Smith St</td>\n",
       "      <td>40.680611</td>\n",
       "      <td>-73.994758</td>\n",
       "      <td>21666</td>\n",
       "      <td>Subscriber</td>\n",
       "      <td>1971</td>\n",
       "      <td>2</td>\n",
       "      <td>1</td>\n",
       "      <td>1</td>\n",
       "      <td>14</td>\n",
       "      <td>9</td>\n",
       "    </tr>\n",
       "    <tr>\n",
       "      <th>483317</th>\n",
       "      <td>297</td>\n",
       "      <td>2018-01-22</td>\n",
       "      <td>2018-01-22 14:06:56.6300</td>\n",
       "      <td>3094.0</td>\n",
       "      <td>Graham Ave &amp; Withers St</td>\n",
       "      <td>40.716981</td>\n",
       "      <td>-73.944859</td>\n",
       "      <td>3076.0</td>\n",
       "      <td>Scholes St &amp; Manhattan Ave</td>\n",
       "      <td>40.708704</td>\n",
       "      <td>-73.944862</td>\n",
       "      <td>30833</td>\n",
       "      <td>Subscriber</td>\n",
       "      <td>1987</td>\n",
       "      <td>1</td>\n",
       "      <td>1</td>\n",
       "      <td>0</td>\n",
       "      <td>14</td>\n",
       "      <td>22</td>\n",
       "    </tr>\n",
       "  </tbody>\n",
       "</table>\n",
       "</div>"
      ],
      "text/plain": [
       "        tripduration  starttime                  stoptime  start station id  \\\n",
       "561069           459 2018-01-09  2018-01-09 14:56:17.6960            3242.0   \n",
       "483317           297 2018-01-22  2018-01-22 14:06:56.6300            3094.0   \n",
       "\n",
       "                start station name  start station latitude  \\\n",
       "561069  Schermerhorn St & Court St               40.691029   \n",
       "483317     Graham Ave & Withers St               40.716981   \n",
       "\n",
       "        start station longitude  end station id            end station name  \\\n",
       "561069               -73.991834          3382.0       Carroll St & Smith St   \n",
       "483317               -73.944859          3076.0  Scholes St & Manhattan Ave   \n",
       "\n",
       "        end station latitude  end station longitude  bikeid    usertype  \\\n",
       "561069             40.680611             -73.994758   21666  Subscriber   \n",
       "483317             40.708704             -73.944862   30833  Subscriber   \n",
       "\n",
       "        birth year  gender  start_month  start_day_of_week  start_hour  \\\n",
       "561069        1971       2            1                  1          14   \n",
       "483317        1987       1            1                  0          14   \n",
       "\n",
       "        start_date  \n",
       "561069           9  \n",
       "483317          22  "
      ]
     },
     "execution_count": 7,
     "metadata": {},
     "output_type": "execute_result"
    }
   ],
   "source": [
    "big.head(2)"
   ]
  },
  {
   "cell_type": "markdown",
   "metadata": {},
   "source": [
    "### Insert Weather Data Here: \n",
    "\n",
    "https://www.weather.gov/okx/centralparkhistorical\n",
    "\n",
    "Next we connect daily weather information. The hypothesis is that this may aide in predicting a destination as fair weather might increase trips to parks and beaches. "
   ]
  },
  {
   "cell_type": "code",
   "execution_count": 8,
   "metadata": {
    "collapsed": true
   },
   "outputs": [],
   "source": [
    "weather_df = pd.read_csv('citibike_data/2018_weather.csv')\n",
    "weather_df['starttime'] = pd.to_datetime(weather_df['date'])\n",
    "weather_df = weather_df.drop(['max_temp', 'min_temp','departure', 'Hdd', 'cdd', 'new_snow', 'date' ], axis=1)                                               "
   ]
  },
  {
   "cell_type": "code",
   "execution_count": 9,
   "metadata": {
    "collapsed": true
   },
   "outputs": [],
   "source": [
    "big = pd.merge(big, weather_df, on='starttime', how='left')"
   ]
  },
  {
   "cell_type": "code",
   "execution_count": 11,
   "metadata": {},
   "outputs": [
    {
     "data": {
      "text/plain": [
       "(1754565, 22)"
      ]
     },
     "execution_count": 11,
     "metadata": {},
     "output_type": "execute_result"
    }
   ],
   "source": [
    "big.shape"
   ]
  },
  {
   "cell_type": "markdown",
   "metadata": {},
   "source": [
    "### Insert Neighborhood Name\n",
    "\n",
    "Connect Neighborhood name data to our 'End Station Latitude/Longitude' to use as labels for predictions. In the most widely used context there are 51 neighborhoods in New York City. "
   ]
  },
  {
   "cell_type": "code",
   "execution_count": 12,
   "metadata": {
    "collapsed": true
   },
   "outputs": [],
   "source": [
    "#set the token and submit it\n",
    "token = 'pk.eyJ1IjoiZWxlbmFzbTciLCJhIjoiY2p0cTJvZTRiMGIzNzRkcGFjcDZxaWZ4ZCJ9.HBH-RZXHMr6bmFkKLRLvBQ'\n",
    "from mapbox import Geocoder\n",
    "geocoder = Geocoder(access_token=token)\n",
    "\n",
    "def get_neighborhood(row,end_or_start):\n",
    "    '''\n",
    "    uses the 'end station longitude' and 'end station latitude' of each row to find \n",
    "    the neighborhood from the mapbox. Mapbox returns a json file, which we filter \n",
    "    through in the second line.\n",
    "    '''\n",
    "    response = geocoder.reverse(lon=row[end_or_start+' station longitude'], lat=row[end_or_start+' station latitude'])\n",
    "    return response.geojson()['features'][0]['context'][0]['text']"
   ]
  },
  {
   "cell_type": "code",
   "execution_count": 13,
   "metadata": {
    "collapsed": true
   },
   "outputs": [],
   "source": [
    "def add_neighborhoods(df,end_or_start):\n",
    "    \n",
    "    station_names = df[end_or_start+' station name'].value_counts() #create a dataframe of all unique stations\n",
    "\n",
    "    stn_names_li = list(station_names.keys()) #create a list of the keys\n",
    "        \n",
    "    stops_df = pd.DataFrame(stn_names_li)\n",
    "    stops_df.rename(columns={0:end_or_start+'_station_name'},inplace=True)\n",
    "\n",
    "    if end_or_start == 'end':\n",
    "        \n",
    "        #concatinate the stop names with the latitude and longitude and drop unneeded columns\n",
    "        stops_w_latlong = pd.concat([stops_df, df], axis=1, join='inner')\n",
    "        stops_w_latlong = stops_w_latlong[['end station latitude','end station longitude',\n",
    "                                          'end station name']]  \n",
    "        stops_w_latlong['end_nhbr'] = stops_w_latlong.apply(lambda row: get_neighborhood(row,'end'), axis=1)\n",
    "       \n",
    "        return stops_w_latlong\n",
    "    \n",
    "    elif end_or_start == 'start':\n",
    "\n",
    "        stops_w_latlong = pd.concat([stops_df, df], axis=1, join='inner')\n",
    "        stops_w_latlong = stops_w_latlong[['start station latitude','start station longitude',\n",
    "                                           'start station name']]\n",
    "        stops_w_latlong['start_nhbr'] = stops_w_latlong.apply(lambda row: get_neighborhood(row,'start'), axis=1)\n",
    "        \n",
    "        return stops_w_latlong"
   ]
  },
  {
   "cell_type": "code",
   "execution_count": 14,
   "metadata": {
    "collapsed": true
   },
   "outputs": [],
   "source": [
    "end_neighborhoods = add_neighborhoods(big,'end')\n",
    "start_neighborhoods = add_neighborhoods(big,'start')"
   ]
  },
  {
   "cell_type": "code",
   "execution_count": 15,
   "metadata": {
    "collapsed": true
   },
   "outputs": [],
   "source": [
    "end_neighborhoods.to_csv('citibike_data/end_neighborhoods.csv')\n",
    "start_neighborhoods.to_csv('citibike_data/start_neighborhoods.csv')"
   ]
  },
  {
   "cell_type": "code",
   "execution_count": 66,
   "metadata": {
    "collapsed": true
   },
   "outputs": [],
   "source": [
    "end_neighborhoods = pd.read_csv('citibike_data/end_neighborhoods.csv')\n",
    "start_neighborhoods = pd.read_csv('citibike_data/start_neighborhoods.csv')"
   ]
  },
  {
   "cell_type": "code",
   "execution_count": 67,
   "metadata": {
    "collapsed": true
   },
   "outputs": [],
   "source": [
    "end_neighborhoods.drop(['Unnamed: 0'], axis=1,inplace=True)\n",
    "start_neighborhoods.drop(['Unnamed: 0'],axis=1,inplace=True)"
   ]
  },
  {
   "cell_type": "code",
   "execution_count": 16,
   "metadata": {
    "collapsed": true
   },
   "outputs": [],
   "source": [
    "end_neighborhoods.drop(['end station latitude','end station longitude'], axis=1,inplace=True)\n",
    "start_neighborhoods.drop(['start station latitude','start station longitude'],axis=1,inplace=True)"
   ]
  },
  {
   "cell_type": "markdown",
   "metadata": {},
   "source": [
    "Merge our stop Neighborhoods to the big DataFrame"
   ]
  },
  {
   "cell_type": "code",
   "execution_count": 17,
   "metadata": {},
   "outputs": [],
   "source": [
    "big = pd.merge(big, end_neighborhoods, on='end station name', how='left')"
   ]
  },
  {
   "cell_type": "markdown",
   "metadata": {},
   "source": [
    "An error occured with matching, so lets's determine which neighborhoods are missing"
   ]
  },
  {
   "cell_type": "code",
   "execution_count": null,
   "metadata": {
    "collapsed": true
   },
   "outputs": [],
   "source": [
    "non_match_ends = pd.DataFrame(list(big[big.end_nhbr.isnull()]['end station name']))\n",
    "non_match_ends.rename(columns={0:'end station name'},inplace=True)"
   ]
  },
  {
   "cell_type": "code",
   "execution_count": null,
   "metadata": {
    "collapsed": true
   },
   "outputs": [],
   "source": [
    "matching = pd.merge(non_match_ends,end_neighborhoods, on='end station name', how='left')"
   ]
  },
  {
   "cell_type": "markdown",
   "metadata": {},
   "source": [
    "It looks like none of the missing values are in our original end neighborhood DataFrame. So, lets get the latitude and longitudes from the missing values in big and create a dataframe of the set of those."
   ]
  },
  {
   "cell_type": "code",
   "execution_count": null,
   "metadata": {
    "collapsed": true
   },
   "outputs": [],
   "source": [
    "missing_stops = pd.DataFrame(list(set(zip(big[big.end_nhbr.isnull()]['end station latitude'],big[big.end_nhbr.isnull()]['end station longitude']))))\n",
    "missing_stops.rename(columns={0:'end station latitude',1:'end station longitude'},inplace=True)\n",
    "missing_stops['end_nhbr'] = missing_stops.apply(lambda row: get_neighborhood(row,'end'), axis=1)\n",
    "missing_stops.to_csv('citibike_data/missing_end_neighborhoods.csv')"
   ]
  },
  {
   "cell_type": "markdown",
   "metadata": {},
   "source": [
    "We merged the start neighborhoods with big, and saw a bunch of null values for start neighborhoods as well. So, we processed the steps from above."
   ]
  },
  {
   "cell_type": "code",
   "execution_count": null,
   "metadata": {
    "collapsed": true
   },
   "outputs": [],
   "source": [
    "big_2 = pd.merge(big, start_neighborhoods, on='start station name', how='left')"
   ]
  },
  {
   "cell_type": "code",
   "execution_count": 50,
   "metadata": {},
   "outputs": [],
   "source": [
    "non_match_starts = pd.DataFrame(list(big_2[big_2.start_nhbr.isnull()]['start station name']))\n",
    "non_match_starts.rename(columns={0:'start station name'},inplace=True)"
   ]
  },
  {
   "cell_type": "code",
   "execution_count": 52,
   "metadata": {},
   "outputs": [],
   "source": [
    "missing_starts = pd.DataFrame(list(set(zip(big_2[big_2.start_nhbr.isnull()]['start station latitude'],big_2[big_2.start_nhbr.isnull()]['start station longitude']))))\n",
    "missing_starts.rename(columns={0:'start station latitude',1:'start station longitude'},inplace=True)\n",
    "missing_starts['start_nhbr'] = missing_starts.apply(lambda row: get_neighborhood(row,'start'), axis=1)\n",
    "missing_starts.to_csv('citibike_data/missing_start_neighborhoods.csv')"
   ]
  },
  {
   "cell_type": "code",
   "execution_count": 75,
   "metadata": {},
   "outputs": [
    {
     "data": {
      "text/plain": [
       "53"
      ]
     },
     "execution_count": 75,
     "metadata": {},
     "output_type": "execute_result"
    }
   ],
   "source": [
    "len(list(end_neighborhoods.end_nhbr.value_counts()))\n",
    "# start_neighborhoods"
   ]
  },
  {
   "cell_type": "code",
   "execution_count": 78,
   "metadata": {},
   "outputs": [
    {
     "data": {
      "text/plain": [
       "58"
      ]
     },
     "execution_count": 78,
     "metadata": {},
     "output_type": "execute_result"
    }
   ],
   "source": [
    "len(missing_stops.end_nhbr.value_counts())"
   ]
  },
  {
   "cell_type": "code",
   "execution_count": 84,
   "metadata": {},
   "outputs": [
    {
     "data": {
      "text/html": [
       "<div>\n",
       "<style scoped>\n",
       "    .dataframe tbody tr th:only-of-type {\n",
       "        vertical-align: middle;\n",
       "    }\n",
       "\n",
       "    .dataframe tbody tr th {\n",
       "        vertical-align: top;\n",
       "    }\n",
       "\n",
       "    .dataframe thead th {\n",
       "        text-align: right;\n",
       "    }\n",
       "</style>\n",
       "<table border=\"1\" class=\"dataframe\">\n",
       "  <thead>\n",
       "    <tr style=\"text-align: right;\">\n",
       "      <th></th>\n",
       "      <th>end station latitude</th>\n",
       "      <th>end station longitude</th>\n",
       "      <th>end_nhbr</th>\n",
       "    </tr>\n",
       "  </thead>\n",
       "  <tbody>\n",
       "    <tr>\n",
       "      <th>0</th>\n",
       "      <td>40.680611</td>\n",
       "      <td>-73.994758</td>\n",
       "      <td>Carroll Gardens</td>\n",
       "    </tr>\n",
       "    <tr>\n",
       "      <th>1</th>\n",
       "      <td>40.708704</td>\n",
       "      <td>-73.944862</td>\n",
       "      <td>Williamsburg</td>\n",
       "    </tr>\n",
       "    <tr>\n",
       "      <th>2</th>\n",
       "      <td>40.670777</td>\n",
       "      <td>-73.957680</td>\n",
       "      <td>Crown Heights</td>\n",
       "    </tr>\n",
       "    <tr>\n",
       "      <th>3</th>\n",
       "      <td>40.765909</td>\n",
       "      <td>-73.976342</td>\n",
       "      <td>Central Park</td>\n",
       "    </tr>\n",
       "    <tr>\n",
       "      <th>4</th>\n",
       "      <td>40.686176</td>\n",
       "      <td>-73.996453</td>\n",
       "      <td>Cobble Hill</td>\n",
       "    </tr>\n",
       "  </tbody>\n",
       "</table>\n",
       "</div>"
      ],
      "text/plain": [
       "   end station latitude  end station longitude         end_nhbr\n",
       "0             40.680611             -73.994758  Carroll Gardens\n",
       "1             40.708704             -73.944862     Williamsburg\n",
       "2             40.670777             -73.957680    Crown Heights\n",
       "3             40.765909             -73.976342     Central Park\n",
       "4             40.686176             -73.996453      Cobble Hill"
      ]
     },
     "execution_count": 84,
     "metadata": {},
     "output_type": "execute_result"
    }
   ],
   "source": [
    "stops_total = pd.concat([end_neighborhoods.drop(['end station name'],axis=1),missing_stops])\n",
    "stops_total.head()"
   ]
  },
  {
   "cell_type": "code",
   "execution_count": 86,
   "metadata": {},
   "outputs": [
    {
     "data": {
      "text/plain": [
       "Index(['tripduration', 'starttime', 'stoptime', 'start station id',\n",
       "       'start station name', 'start station latitude',\n",
       "       'start station longitude', 'end station id', 'end station name_x',\n",
       "       'end station latitude', 'end station longitude', 'bikeid', 'usertype',\n",
       "       'birth year', 'gender', 'start_month', 'start_day_of_week',\n",
       "       'start_hour', 'start_date', 'ave_temp', 'precip', 'snow_depth',\n",
       "       'end_nhbr_x'],\n",
       "      dtype='object')"
      ]
     },
     "execution_count": 86,
     "metadata": {},
     "output_type": "execute_result"
    }
   ],
   "source": [
    "big.columns"
   ]
  },
  {
   "cell_type": "code",
   "execution_count": 69,
   "metadata": {},
   "outputs": [
    {
     "data": {
      "text/plain": [
       "(1234, 4)"
      ]
     },
     "execution_count": 69,
     "metadata": {},
     "output_type": "execute_result"
    }
   ],
   "source": [
    "starts_total = pd.concat([start_neighborhoods,missing_starts])\n",
    "starts_total.shape"
   ]
  },
  {
   "cell_type": "code",
   "execution_count": 87,
   "metadata": {},
   "outputs": [],
   "source": [
    "big = pd.merge(big, stops_total, on=['end station latitude','end station longitude'], how='left')"
   ]
  },
  {
   "cell_type": "code",
   "execution_count": 118,
   "metadata": {},
   "outputs": [],
   "source": [
    "big.drop(['end_nhbr_x','end station name_x'],inplace=True,axis=1)"
   ]
  },
  {
   "cell_type": "code",
   "execution_count": 102,
   "metadata": {},
   "outputs": [],
   "source": [
    "big.dropna(inplace=True)"
   ]
  },
  {
   "cell_type": "code",
   "execution_count": 105,
   "metadata": {},
   "outputs": [],
   "source": [
    "big_2.dropna(inplace=True)"
   ]
  },
  {
   "cell_type": "code",
   "execution_count": 46,
   "metadata": {
    "collapsed": true
   },
   "outputs": [],
   "source": [
    "missing_stops.to_csv('citibike_data/missing_end_neighborhoods.csv')"
   ]
  },
  {
   "cell_type": "markdown",
   "metadata": {},
   "source": [
    "### Convert usertype to categories\n",
    "\n",
    "Our CitiBike data includes a label for each trip to determine if it was made by a rider who is an annual subscriber or someone who has purchased a temporary pass. We assume that there may be destinations more likely chosen by tourist users. "
   ]
  },
  {
   "cell_type": "code",
   "execution_count": 103,
   "metadata": {
    "collapsed": true
   },
   "outputs": [],
   "source": [
    "big.usertype = pd.Categorical(big.usertype)\n",
    "big.usertype = big.usertype.cat.codes"
   ]
  },
  {
   "cell_type": "code",
   "execution_count": 106,
   "metadata": {
    "collapsed": true
   },
   "outputs": [],
   "source": [
    "big_2.usertype = pd.Categorical(big_2.usertype)\n",
    "big_2.usertype = big_2.usertype.cat.codes"
   ]
  },
  {
   "cell_type": "markdown",
   "metadata": {},
   "source": [
    "### Exploring Age Data\n",
    "\n",
    "after individually looking at column distributions, there were a few interestings observations with the age data.\n",
    "Lets look into this below:"
   ]
  },
  {
   "cell_type": "code",
   "execution_count": 107,
   "metadata": {
    "scrolled": true
   },
   "outputs": [
    {
     "data": {
      "image/png": "[encoded data removed]",
      "text/plain": [
       "<Figure size 720x504 with 1 Axes>"
      ]
     },
     "metadata": {},
     "output_type": "display_data"
    }
   ],
   "source": [
    "%matplotlib inline\n",
    "fig = plt.figure(figsize=(10,7))\n",
    "sns.distplot(big['birth year'])\n",
    "plt.title('Distribution of Reported Ages')\n",
    "plt.savefig('original_age_dist.png')"
   ]
  },
  {
   "cell_type": "markdown",
   "metadata": {},
   "source": [
    "The easit thing to handle: people born way too early. We've set a cut-off age of 80. Only __0.15%__ is from people saying they were born before 1939. If you look at the data above, these all seem pretty unrealistic, so lets __drop these values.__"
   ]
  },
  {
   "cell_type": "code",
   "execution_count": 108,
   "metadata": {},
   "outputs": [
    {
     "data": {
      "text/plain": [
       "(105676, 24)"
      ]
     },
     "execution_count": 108,
     "metadata": {},
     "output_type": "execute_result"
    }
   ],
   "source": [
    "big[big['birth year'] <= 1939].shape"
   ]
  },
  {
   "cell_type": "code",
   "execution_count": 109,
   "metadata": {},
   "outputs": [
    {
     "data": {
      "text/plain": [
       "0.15"
      ]
     },
     "execution_count": 109,
     "metadata": {},
     "output_type": "execute_result"
    }
   ],
   "source": [
    "round(big[big['birth year'] <= 1939].shape[0]/big.shape[0] * 100,2)"
   ]
  },
  {
   "cell_type": "code",
   "execution_count": 110,
   "metadata": {},
   "outputs": [],
   "source": [
    "big.drop(list(big[big['birth year'] <= 1939]['birth year'].index),inplace=True)"
   ]
  },
  {
   "cell_type": "code",
   "execution_count": 111,
   "metadata": {
    "collapsed": true
   },
   "outputs": [],
   "source": [
    "big_2.drop(list(big_2[big_2['birth year'] <= 1939]['birth year'].index),inplace=True)"
   ]
  },
  {
   "cell_type": "markdown",
   "metadata": {},
   "source": [
    "### the youngest riders would need to be born in 2003, so we check for any riders claiming to be born after that"
   ]
  },
  {
   "cell_type": "code",
   "execution_count": 113,
   "metadata": {},
   "outputs": [
    {
     "data": {
      "text/plain": [
       "2002"
      ]
     },
     "execution_count": 113,
     "metadata": {},
     "output_type": "execute_result"
    }
   ],
   "source": [
    "big['birth year'].max() #looks like no one is reporting to be younger"
   ]
  },
  {
   "cell_type": "markdown",
   "metadata": {},
   "source": [
    "### Smooth '1969' birth year\n"
   ]
  },
  {
   "cell_type": "code",
   "execution_count": 114,
   "metadata": {
    "collapsed": true
   },
   "outputs": [],
   "source": [
    "def change_birth_year(row,med_age_df):\n",
    "    '''\n",
    "    This function will be applied to each row, where ever there is a 1969 we will replace it with the birth year \n",
    "    from median_birthyear_no_69 which matches with our stop neighborhood\n",
    "    '''\n",
    "    if row['birth year'] == 1969:\n",
    "        year = med_age_df[med_age_df['end_nhbr']== row['end_nhbr']]['birth year']\n",
    "        return year.item()\n",
    "    else:\n",
    "        return row['birth year']"
   ]
  },
  {
   "cell_type": "markdown",
   "metadata": {},
   "source": [
    "Create dataframes of the median birth year by stop neighborhood"
   ]
  },
  {
   "cell_type": "code",
   "execution_count": 119,
   "metadata": {},
   "outputs": [],
   "source": [
    "median_birthyear = pd.DataFrame(big.groupby('end_nhbr')['birth year'].median())\n",
    "median_birthyear.reset_index(inplace=True) \n",
    "# median_birthyear.head()"
   ]
  },
  {
   "cell_type": "code",
   "execution_count": 121,
   "metadata": {
    "collapsed": true
   },
   "outputs": [],
   "source": [
    "median_birthyear_2 = pd.DataFrame(big_2.groupby('end_nhbr')['birth year'].median())\n",
    "median_birthyear_2.reset_index(inplace=True) \n",
    "# median_birthyear.head()"
   ]
  },
  {
   "cell_type": "code",
   "execution_count": null,
   "metadata": {
    "collapsed": true
   },
   "outputs": [],
   "source": [
    "big['update_birth_yr_2'] = big.apply(lambda row: change_birth_year(row,median_birthyear),axis=1)\n",
    "big_2['update_birth_yr_2'] = big_2.apply(lambda row: change_birth_year(row,median_birthyear_2),axis=1)"
   ]
  },
  {
   "cell_type": "markdown",
   "metadata": {},
   "source": [
    "Create a displot of the fixed birth year column:"
   ]
  },
  {
   "cell_type": "code",
   "execution_count": null,
   "metadata": {
    "collapsed": true
   },
   "outputs": [],
   "source": [
    "%matplotlib inline\n",
    "fig = plt.figure(figsize=(10,7))\n",
    "sns.distplot(big['birth year'])\n",
    "plt.title('Distribution of Reported Ages w/o 1969')\n",
    "plt.savefig('fixed_age_dist.png')"
   ]
  },
  {
   "cell_type": "markdown",
   "metadata": {},
   "source": [
    "### Bin Age into Categories"
   ]
  },
  {
   "cell_type": "code",
   "execution_count": null,
   "metadata": {
    "collapsed": true
   },
   "outputs": [],
   "source": []
  },
  {
   "cell_type": "markdown",
   "metadata": {},
   "source": [
    "### Label Encode for Morning versus Evening. \n",
    "\n",
    "To better fit a model, using a split day rather than by hour might aide in determining a destination. The idea is that many nieghborhoods are destinations for commuters going to work in the morning and alternatively heading home in the evening. "
   ]
  },
  {
   "cell_type": "code",
   "execution_count": null,
   "metadata": {
    "collapsed": true
   },
   "outputs": [],
   "source": []
  },
  {
   "cell_type": "markdown",
   "metadata": {},
   "source": [
    "### Remove redundant rows - \n",
    "\n",
    "Now that our primary categories are set we will remove features that are not needed or redundant. "
   ]
  },
  {
   "cell_type": "code",
   "execution_count": null,
   "metadata": {
    "collapsed": true
   },
   "outputs": [],
   "source": [
    "big = big.drop(['tripduration', 'starttime', 'stoptime','start station name',\n",
    "                'end station id', 'bikeid', 'start station latitude', \n",
    "                'start station longitude', 'end station latitude', \n",
    "                'end station longitude','end station name', 'start_date'], axis=1)"
   ]
  },
  {
   "cell_type": "markdown",
   "metadata": {},
   "source": [
    "### Save to CSV file to be used in later models "
   ]
  },
  {
   "cell_type": "code",
   "execution_count": null,
   "metadata": {
    "collapsed": true
   },
   "outputs": [],
   "source": [
    "#big.to_csv('citibike_2018.csv', index=False)"
   ]
  },
  {
   "cell_type": "markdown",
   "metadata": {},
   "source": [
    "### View Correlation between varibles. "
   ]
  },
  {
   "cell_type": "code",
   "execution_count": null,
   "metadata": {
    "collapsed": true
   },
   "outputs": [],
   "source": [
    "sns.pairplot(df_small)"
   ]
  },
  {
   "cell_type": "markdown",
   "metadata": {},
   "source": [
    "### View the Volume of stop Neighborhoods."
   ]
  },
  {
   "cell_type": "code",
   "execution_count": null,
   "metadata": {
    "collapsed": true
   },
   "outputs": [],
   "source": [
    "plt.figure(figsize=(12,10))\n",
    "sns.countplot(df_small.stop_nhbr)\n",
    "plt.xticks(rotation=90)"
   ]
  },
  {
   "cell_type": "code",
   "execution_count": null,
   "metadata": {
    "collapsed": true
   },
   "outputs": [],
   "source": []
  }
 ],
 "metadata": {
  "kernelspec": {
   "display_name": "Python 3",
   "language": "python",
   "name": "python3"
  },
  "language_info": {
   "codemirror_mode": {
    "name": "ipython",
    "version": 3
   },
   "file_extension": ".py",
   "mimetype": "text/x-python",
   "name": "python",
   "nbconvert_exporter": "python",
   "pygments_lexer": "ipython3",
   "version": "3.6.8"
  }
 },
 "nbformat": 4,
 "nbformat_minor": 2
}
