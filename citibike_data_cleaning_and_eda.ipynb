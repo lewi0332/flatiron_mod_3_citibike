{
 "cells": [
  {
   "cell_type": "markdown",
   "metadata": {},
   "source": [
    "# CitiBike Destination Predictor"
   ]
  },
  {
   "cell_type": "markdown",
   "metadata": {},
   "source": [
    "This project is a collaboration between [Elena Morais](https://github.com/elenasm7) and [Derrick Lewis](https://github.com/lewi0332)\n",
    "\n",
    "The project requirements are to find and clean data to be fit to a classification algorithm to make predictions on the outcome. \n",
    "\n",
    "We chose to use data from CitiBike of all trips in 2018. This data includes time, start/stop locations, and some basic demographic identifiers. To aid in our perdiction we added daily weather information of New York City. \n",
    "\n",
    "- Trip Duration (seconds)\n",
    "- Start Time and Date\n",
    "- Stop Time and Date\n",
    "- Start Station Name\n",
    "- End Station Name\n",
    "- Station ID\n",
    "- Station Lat/Long\n",
    "- Bike ID\n",
    "- User Type (Customer = 24-hour pass or 3-day pass user; Subscriber = Annual Member)\n",
    "- Gender (Zero=unknown; 1=male; 2=female)\n",
    "- Year of Birth\n",
    "\n",
    "The goal is to perdict the destination neighborhood of each journey based on the available variables. This is a multi-classification problem with a high number of outcomes. We determined that there are 51 qualifying neighborhoods in New York, which presents a sigificant challenge. \n"
   ]
  },
  {
   "cell_type": "markdown",
   "metadata": {},
   "source": [
    "## Data Collection and Cleaning\n",
    "\n",
    "First we collected 1 year worth of trip data from Cibibike.com. We learn that there are 17million records in the 2018 data, which is too large for our processing capbabilities. Thus we import each month of data, and randomly sample 10% from each month to create a more manageable, yet representative list. "
   ]
  },
  {
   "cell_type": "code",
   "execution_count": 25,
   "metadata": {},
   "outputs": [],
   "source": [
    "import pandas as pd\n",
    "import numpy as np\n",
    "import seaborn as sns\n",
    "import matplotlib.pyplot as plt\n",
    "from citibike_scripts import *\n",
    "np.random.seed(0)\n",
    "%matplotlib inline"
   ]
  },
  {
   "cell_type": "code",
   "execution_count": 4,
   "metadata": {
    "collapsed": true
   },
   "outputs": [],
   "source": [
    "def all_files_to_df(num,start_file_path, end_file_path):\n",
    "    '''\n",
    "    this function takes in length of the list of files (+1) and the beginning and end of the file's names,\n",
    "    it then reads in all the files and concatinates them into a single dataframe.\n",
    "    '''\n",
    "    df_li = []\n",
    "    for i in range(1,num):\n",
    "        df_li.append(pd.read_csv(start_file_path+ str(i).zfill(2)+end_file_path).sample(frac=.1,random_state=42))\n",
    "    return pd.concat(df_li)"
   ]
  },
  {
   "cell_type": "code",
   "execution_count": 6,
   "metadata": {},
   "outputs": [],
   "source": [
    "citibikes_df = all_files_to_df(13,'../citibike_data/2018', '-citibike-tripdata.csv')"
   ]
  },
  {
   "cell_type": "code",
   "execution_count": 7,
   "metadata": {},
   "outputs": [
    {
     "data": {
      "text/plain": [
       "(1754832, 15)"
      ]
     },
     "execution_count": 7,
     "metadata": {},
     "output_type": "execute_result"
    }
   ],
   "source": [
    "citibikes_df.shape"
   ]
  },
  {
   "cell_type": "code",
   "execution_count": 8,
   "metadata": {
    "collapsed": true
   },
   "outputs": [],
   "source": [
    "citibikes_df.to_csv('test_data.csv')"
   ]
  },
  {
   "cell_type": "markdown",
   "metadata": {},
   "source": [
    "### Null values\n",
    "\n",
    "There are just 295 NaN values missing the station start and end points in the file of nearly 1.8million. This information is crucial to the prediction and thus can not be substituted. We have decidied to simply remove these rows. "
   ]
  },
  {
   "cell_type": "code",
   "execution_count": 9,
   "metadata": {},
   "outputs": [
    {
     "data": {
      "text/plain": [
       "tripduration                 0\n",
       "starttime                    0\n",
       "stoptime                     0\n",
       "start station id           295\n",
       "start station name         295\n",
       "start station latitude       0\n",
       "start station longitude      0\n",
       "end station id             295\n",
       "end station name           295\n",
       "end station latitude         0\n",
       "end station longitude        0\n",
       "bikeid                       0\n",
       "usertype                     0\n",
       "birth year                   0\n",
       "gender                       0\n",
       "dtype: int64"
      ]
     },
     "execution_count": 9,
     "metadata": {},
     "output_type": "execute_result"
    }
   ],
   "source": [
    "citibikes_df.isnull().sum()"
   ]
  },
  {
   "cell_type": "code",
   "execution_count": 12,
   "metadata": {},
   "outputs": [
    {
     "data": {
      "text/plain": [
       "tripduration               0\n",
       "starttime                  0\n",
       "stoptime                   0\n",
       "start station id           0\n",
       "start station name         0\n",
       "start station latitude     0\n",
       "start station longitude    0\n",
       "end station id             0\n",
       "end station name           0\n",
       "end station latitude       0\n",
       "end station longitude      0\n",
       "bikeid                     0\n",
       "usertype                   0\n",
       "birth year                 0\n",
       "gender                     0\n",
       "dtype: int64"
      ]
     },
     "execution_count": 12,
     "metadata": {},
     "output_type": "execute_result"
    }
   ],
   "source": [
    "citibikes_df.dropna(inplace=True) #drops rows with missing data, axis default to 0.\n",
    "citibikes_df.isnull().sum()"
   ]
  },
  {
   "cell_type": "markdown",
   "metadata": {},
   "source": [
    "### Convert to DateTime \n",
    "\n",
    "Start and End times are saved in a format that is not readable by Pandas or our future models. We will convert the columns with this information into a standard date format, then split the relevant information into individual columns to be used as a specific independant variable."
   ]
  },
  {
   "cell_type": "code",
   "execution_count": 13,
   "metadata": {
    "collapsed": true
   },
   "outputs": [],
   "source": [
    "citibikes_df['starttime'] = pd.to_datetime(citibikes_df['starttime'])\n",
    "citibikes_df['start_month'] = citibikes_df.starttime.dt.month\n",
    "citibikes_df['start_day_of_week'] = citibikes_df.starttime.dt.dayofweek\n",
    "citibikes_df['start_hour'] = citibikes_df.starttime.dt.hour\n",
    "citibikes_df['start_date'] = citibikes_df.starttime.dt.day\n",
    "\n",
    "citibikes_df['starttime'] = citibikes_df.starttime.dt.date\n",
    "citibikes_df['starttime'] = pd.to_datetime(citibikes_df['starttime'])\n"
   ]
  },
  {
   "cell_type": "code",
   "execution_count": 14,
   "metadata": {},
   "outputs": [
    {
     "data": {
      "text/html": [
       "<div>\n",
       "<style scoped>\n",
       "    .dataframe tbody tr th:only-of-type {\n",
       "        vertical-align: middle;\n",
       "    }\n",
       "\n",
       "    .dataframe tbody tr th {\n",
       "        vertical-align: top;\n",
       "    }\n",
       "\n",
       "    .dataframe thead th {\n",
       "        text-align: right;\n",
       "    }\n",
       "</style>\n",
       "<table border=\"1\" class=\"dataframe\">\n",
       "  <thead>\n",
       "    <tr style=\"text-align: right;\">\n",
       "      <th></th>\n",
       "      <th>tripduration</th>\n",
       "      <th>starttime</th>\n",
       "      <th>stoptime</th>\n",
       "      <th>start station id</th>\n",
       "      <th>start station name</th>\n",
       "      <th>start station latitude</th>\n",
       "      <th>start station longitude</th>\n",
       "      <th>end station id</th>\n",
       "      <th>end station name</th>\n",
       "      <th>end station latitude</th>\n",
       "      <th>end station longitude</th>\n",
       "      <th>bikeid</th>\n",
       "      <th>usertype</th>\n",
       "      <th>birth year</th>\n",
       "      <th>gender</th>\n",
       "      <th>start_month</th>\n",
       "      <th>start_day_of_week</th>\n",
       "      <th>start_hour</th>\n",
       "      <th>start_date</th>\n",
       "    </tr>\n",
       "  </thead>\n",
       "  <tbody>\n",
       "    <tr>\n",
       "      <th>318178</th>\n",
       "      <td>592</td>\n",
       "      <td>2018-01-22</td>\n",
       "      <td>2018-01-22 08:12:31.2680</td>\n",
       "      <td>478.0</td>\n",
       "      <td>11 Ave &amp; W 41 St</td>\n",
       "      <td>40.760301</td>\n",
       "      <td>-73.998842</td>\n",
       "      <td>505.0</td>\n",
       "      <td>6 Ave &amp; W 33 St</td>\n",
       "      <td>40.749013</td>\n",
       "      <td>-73.988484</td>\n",
       "      <td>33395</td>\n",
       "      <td>Subscriber</td>\n",
       "      <td>1986</td>\n",
       "      <td>1</td>\n",
       "      <td>1</td>\n",
       "      <td>0</td>\n",
       "      <td>8</td>\n",
       "      <td>22</td>\n",
       "    </tr>\n",
       "    <tr>\n",
       "      <th>383962</th>\n",
       "      <td>450</td>\n",
       "      <td>2018-01-03</td>\n",
       "      <td>2018-01-03 10:07:56.2390</td>\n",
       "      <td>509.0</td>\n",
       "      <td>9 Ave &amp; W 22 St</td>\n",
       "      <td>40.745497</td>\n",
       "      <td>-74.001971</td>\n",
       "      <td>474.0</td>\n",
       "      <td>5 Ave &amp; E 29 St</td>\n",
       "      <td>40.745168</td>\n",
       "      <td>-73.986831</td>\n",
       "      <td>29115</td>\n",
       "      <td>Subscriber</td>\n",
       "      <td>1981</td>\n",
       "      <td>1</td>\n",
       "      <td>1</td>\n",
       "      <td>2</td>\n",
       "      <td>10</td>\n",
       "      <td>3</td>\n",
       "    </tr>\n",
       "  </tbody>\n",
       "</table>\n",
       "</div>"
      ],
      "text/plain": [
       "        tripduration  starttime                  stoptime  start station id  \\\n",
       "318178           592 2018-01-22  2018-01-22 08:12:31.2680             478.0   \n",
       "383962           450 2018-01-03  2018-01-03 10:07:56.2390             509.0   \n",
       "\n",
       "       start station name  start station latitude  start station longitude  \\\n",
       "318178   11 Ave & W 41 St               40.760301               -73.998842   \n",
       "383962    9 Ave & W 22 St               40.745497               -74.001971   \n",
       "\n",
       "        end station id end station name  end station latitude  \\\n",
       "318178           505.0  6 Ave & W 33 St             40.749013   \n",
       "383962           474.0  5 Ave & E 29 St             40.745168   \n",
       "\n",
       "        end station longitude  bikeid    usertype  birth year  gender  \\\n",
       "318178             -73.988484   33395  Subscriber        1986       1   \n",
       "383962             -73.986831   29115  Subscriber        1981       1   \n",
       "\n",
       "        start_month  start_day_of_week  start_hour  start_date  \n",
       "318178            1                  0           8          22  \n",
       "383962            1                  2          10           3  "
      ]
     },
     "execution_count": 14,
     "metadata": {},
     "output_type": "execute_result"
    }
   ],
   "source": [
    "citibikes_df.head(2)"
   ]
  },
  {
   "cell_type": "markdown",
   "metadata": {},
   "source": [
    "### Insert Weather Data Here: \n",
    "\n",
    "https://www.weather.gov/okx/centralparkhistorical\n",
    "\n",
    "Next we connect daily weather information. The hypothesis is that this may aide in predicting a destination as fair weather might increase trips to parks and beaches. "
   ]
  },
  {
   "cell_type": "code",
   "execution_count": 16,
   "metadata": {},
   "outputs": [],
   "source": [
    "weather_df = pd.read_csv('../citibike_data/2018_weather.csv')\n",
    "weather_df['starttime'] = pd.to_datetime(weather_df['date'])\n",
    "weather_df = weather_df.drop(['max_temp', 'min_temp','departure', 'Hdd', 'cdd', 'new_snow', 'date' ], axis=1)                                               "
   ]
  },
  {
   "cell_type": "code",
   "execution_count": 17,
   "metadata": {
    "collapsed": true
   },
   "outputs": [],
   "source": [
    "citibikes_df = pd.merge(citibikes_df, weather_df, on='starttime', how='left')"
   ]
  },
  {
   "cell_type": "code",
   "execution_count": 19,
   "metadata": {},
   "outputs": [
    {
     "data": {
      "text/html": [
       "<div>\n",
       "<style scoped>\n",
       "    .dataframe tbody tr th:only-of-type {\n",
       "        vertical-align: middle;\n",
       "    }\n",
       "\n",
       "    .dataframe tbody tr th {\n",
       "        vertical-align: top;\n",
       "    }\n",
       "\n",
       "    .dataframe thead th {\n",
       "        text-align: right;\n",
       "    }\n",
       "</style>\n",
       "<table border=\"1\" class=\"dataframe\">\n",
       "  <thead>\n",
       "    <tr style=\"text-align: right;\">\n",
       "      <th></th>\n",
       "      <th>tripduration</th>\n",
       "      <th>starttime</th>\n",
       "      <th>stoptime</th>\n",
       "      <th>start station id</th>\n",
       "      <th>start station name</th>\n",
       "      <th>start station latitude</th>\n",
       "      <th>start station longitude</th>\n",
       "      <th>end station id</th>\n",
       "      <th>end station name</th>\n",
       "      <th>end station latitude</th>\n",
       "      <th>...</th>\n",
       "      <th>usertype</th>\n",
       "      <th>birth year</th>\n",
       "      <th>gender</th>\n",
       "      <th>start_month</th>\n",
       "      <th>start_day_of_week</th>\n",
       "      <th>start_hour</th>\n",
       "      <th>start_date</th>\n",
       "      <th>ave_temp</th>\n",
       "      <th>precip</th>\n",
       "      <th>snow_depth</th>\n",
       "    </tr>\n",
       "  </thead>\n",
       "  <tbody>\n",
       "    <tr>\n",
       "      <th>0</th>\n",
       "      <td>592</td>\n",
       "      <td>2018-01-22</td>\n",
       "      <td>2018-01-22 08:12:31.2680</td>\n",
       "      <td>478.0</td>\n",
       "      <td>11 Ave &amp; W 41 St</td>\n",
       "      <td>40.760301</td>\n",
       "      <td>-73.998842</td>\n",
       "      <td>505.0</td>\n",
       "      <td>6 Ave &amp; W 33 St</td>\n",
       "      <td>40.749013</td>\n",
       "      <td>...</td>\n",
       "      <td>Subscriber</td>\n",
       "      <td>1986</td>\n",
       "      <td>1</td>\n",
       "      <td>1</td>\n",
       "      <td>0</td>\n",
       "      <td>8</td>\n",
       "      <td>22</td>\n",
       "      <td>43.5</td>\n",
       "      <td>0.01</td>\n",
       "      <td>0</td>\n",
       "    </tr>\n",
       "    <tr>\n",
       "      <th>1</th>\n",
       "      <td>450</td>\n",
       "      <td>2018-01-03</td>\n",
       "      <td>2018-01-03 10:07:56.2390</td>\n",
       "      <td>509.0</td>\n",
       "      <td>9 Ave &amp; W 22 St</td>\n",
       "      <td>40.745497</td>\n",
       "      <td>-74.001971</td>\n",
       "      <td>474.0</td>\n",
       "      <td>5 Ave &amp; E 29 St</td>\n",
       "      <td>40.745168</td>\n",
       "      <td>...</td>\n",
       "      <td>Subscriber</td>\n",
       "      <td>1981</td>\n",
       "      <td>1</td>\n",
       "      <td>1</td>\n",
       "      <td>2</td>\n",
       "      <td>10</td>\n",
       "      <td>3</td>\n",
       "      <td>23.0</td>\n",
       "      <td>0.00</td>\n",
       "      <td>0</td>\n",
       "    </tr>\n",
       "  </tbody>\n",
       "</table>\n",
       "<p>2 rows × 22 columns</p>\n",
       "</div>"
      ],
      "text/plain": [
       "   tripduration  starttime                  stoptime  start station id  \\\n",
       "0           592 2018-01-22  2018-01-22 08:12:31.2680             478.0   \n",
       "1           450 2018-01-03  2018-01-03 10:07:56.2390             509.0   \n",
       "\n",
       "  start station name  start station latitude  start station longitude  \\\n",
       "0   11 Ave & W 41 St               40.760301               -73.998842   \n",
       "1    9 Ave & W 22 St               40.745497               -74.001971   \n",
       "\n",
       "   end station id end station name  end station latitude     ...      \\\n",
       "0           505.0  6 Ave & W 33 St             40.749013     ...       \n",
       "1           474.0  5 Ave & E 29 St             40.745168     ...       \n",
       "\n",
       "     usertype  birth year gender  start_month  start_day_of_week  start_hour  \\\n",
       "0  Subscriber        1986      1            1                  0           8   \n",
       "1  Subscriber        1981      1            1                  2          10   \n",
       "\n",
       "   start_date  ave_temp  precip  snow_depth  \n",
       "0          22      43.5    0.01           0  \n",
       "1           3      23.0    0.00           0  \n",
       "\n",
       "[2 rows x 22 columns]"
      ]
     },
     "execution_count": 19,
     "metadata": {},
     "output_type": "execute_result"
    }
   ],
   "source": [
    "citibikes_df.head(2)"
   ]
  },
  {
   "cell_type": "markdown",
   "metadata": {},
   "source": [
    "### Insert Neighborhood Name\n",
    "\n",
    "Connect Neighborhood name data to our 'End Station Latitude/Longitude' to use as labels for predictions. In the most widely used context there are 51 neighborhoods in New York City. "
   ]
  },
  {
   "cell_type": "code",
   "execution_count": null,
   "metadata": {
    "collapsed": true
   },
   "outputs": [],
   "source": [
    "#set the token and submit it\n",
    "from mapbox import Geocoder\n",
    "token = 'your_token_here'\n",
    "geocoder = Geocoder(access_token=token)\n",
    "\n",
    "end_neighborhoods = add_neighborhoods(big,'end')\n",
    "start_neighborhoods = add_neighborhoods(big,'start')"
   ]
  },
  {
   "cell_type": "code",
   "execution_count": 20,
   "metadata": {
    "collapsed": true
   },
   "outputs": [],
   "source": [
    "end_neighborhoods = pd.read_csv('../citibike_data/end_neighborhoods.csv')\n",
    "start_neighborhoods = pd.read_csv('../citibike_data/start_neighborhoods.csv')"
   ]
  },
  {
   "cell_type": "code",
   "execution_count": 21,
   "metadata": {
    "collapsed": true
   },
   "outputs": [],
   "source": [
    "end_neighborhoods.drop(['Unnamed: 0'], axis=1,inplace=True)\n",
    "start_neighborhoods.drop(['Unnamed: 0'],axis=1,inplace=True)"
   ]
  },
  {
   "cell_type": "code",
   "execution_count": null,
   "metadata": {
    "collapsed": true
   },
   "outputs": [],
   "source": [
    "end_neighborhoods.drop(['end station latitude','end station longitude'], axis=1,inplace=True)\n",
    "start_neighborhoods.drop(['start station latitude','start station longitude'],axis=1,inplace=True)"
   ]
  },
  {
   "cell_type": "markdown",
   "metadata": {},
   "source": [
    "Merge our stop Neighborhoods to the big DataFrame"
   ]
  },
  {
   "cell_type": "code",
   "execution_count": 22,
   "metadata": {
    "collapsed": true
   },
   "outputs": [],
   "source": [
    "citibikes_df = pd.merge(citibikes_df, end_neighborhoods, on=['end station latitude','end station longitude'], how='left')"
   ]
  },
  {
   "cell_type": "code",
   "execution_count": 24,
   "metadata": {},
   "outputs": [],
   "source": [
    "# citibikes_df.isnull().sum()"
   ]
  },
  {
   "cell_type": "markdown",
   "metadata": {},
   "source": [
    "An error occured with matching, so lets's determine which neighborhoods are missing"
   ]
  },
  {
   "cell_type": "code",
   "execution_count": null,
   "metadata": {
    "collapsed": true
   },
   "outputs": [],
   "source": [
    "non_match_ends = pd.DataFrame(list(citibikes_df[citibikes_df.end_nhbr.isnull()]['end station name']))\n",
    "non_match_ends.rename(columns={0:'end station name'},inplace=True)"
   ]
  },
  {
   "cell_type": "code",
   "execution_count": null,
   "metadata": {
    "collapsed": true
   },
   "outputs": [],
   "source": [
    "matching = pd.merge(non_match_ends,end_neighborhoods, on='end station name', how='left')"
   ]
  },
  {
   "cell_type": "markdown",
   "metadata": {},
   "source": [
    "It looks like none of the missing values are in our original end neighborhood DataFrame. So, lets get the latitude and longitudes from the missing values in big and create a dataframe of the set of those."
   ]
  },
  {
   "cell_type": "code",
   "execution_count": null,
   "metadata": {
    "collapsed": true
   },
   "outputs": [],
   "source": [
    "missing_stops = pd.DataFrame(list(set(zip(citibikes_df[citibikes_df.end_nhbr.isnull()]['end station latitude'],citibikes_df[citibikes_df.end_nhbr.isnull()]['end station longitude']))))\n",
    "missing_stops.rename(columns={0:'end station latitude',1:'end station longitude'},inplace=True)\n",
    "missing_stops['end_nhbr'] = missing_stops.apply(lambda row: get_neighborhood(row,'end'), axis=1)\n",
    "missing_stops.to_csv('citibike_data/missing_end_neighborhoods.csv')"
   ]
  },
  {
   "cell_type": "markdown",
   "metadata": {},
   "source": [
    "We merged the start neighborhoods with big, and saw a bunch of null values for start neighborhoods as well. So, we processed the steps from above."
   ]
  },
  {
   "cell_type": "code",
   "execution_count": null,
   "metadata": {
    "collapsed": true
   },
   "outputs": [],
   "source": [
    "citibikes_df_2 = pd.merge(citibikes_df, start_neighborhoods, on='start station name', how='left')"
   ]
  },
  {
   "cell_type": "code",
   "execution_count": null,
   "metadata": {
    "collapsed": true
   },
   "outputs": [],
   "source": [
    "non_match_starts = pd.DataFrame(list(citibikes_df_2[citibikes_df_2.start_nhbr.isnull()]['start station name']))\n",
    "non_match_starts.rename(columns={0:'start station name'},inplace=True)"
   ]
  },
  {
   "cell_type": "code",
   "execution_count": null,
   "metadata": {
    "collapsed": true
   },
   "outputs": [],
   "source": [
    "missing_starts = pd.DataFrame(list(set(zip(citibikes_df_2[big_2.start_nhbr.isnull()]['start station latitude'],citibikes_df_2[citibikes_df_2.start_nhbr.isnull()]['start station longitude']))))\n",
    "missing_starts.rename(columns={0:'start station latitude',1:'start station longitude'},inplace=True)\n",
    "missing_starts['start_nhbr'] = missing_starts.apply(lambda row: get_neighborhood(row,'start'), axis=1)\n",
    "missing_starts.to_csv('citibike_data/missing_start_neighborhoods.csv')"
   ]
  },
  {
   "cell_type": "code",
   "execution_count": null,
   "metadata": {},
   "outputs": [],
   "source": [
    "len(list(end_neighborhoods.end_nhbr.value_counts()))\n",
    "# start_neighborhoods"
   ]
  },
  {
   "cell_type": "code",
   "execution_count": null,
   "metadata": {},
   "outputs": [],
   "source": [
    "len(missing_stops.end_nhbr.value_counts())"
   ]
  },
  {
   "cell_type": "code",
   "execution_count": null,
   "metadata": {},
   "outputs": [],
   "source": [
    "stops_total = pd.concat([end_neighborhoods.drop(['end station name'],axis=1),missing_stops])\n",
    "stops_total.head()"
   ]
  },
  {
   "cell_type": "code",
   "execution_count": null,
   "metadata": {},
   "outputs": [],
   "source": [
    "citibikes_df.columns"
   ]
  },
  {
   "cell_type": "code",
   "execution_count": null,
   "metadata": {},
   "outputs": [],
   "source": [
    "starts_total = pd.concat([start_neighborhoods,missing_starts])\n",
    "starts_total.shape"
   ]
  },
  {
   "cell_type": "code",
   "execution_count": null,
   "metadata": {
    "collapsed": true
   },
   "outputs": [],
   "source": [
    "citibikes_df = pd.merge(citibikes_df, stops_total, on=['end station latitude','end station longitude'], how='left')"
   ]
  },
  {
   "cell_type": "code",
   "execution_count": null,
   "metadata": {
    "collapsed": true
   },
   "outputs": [],
   "source": [
    "citibikes_df.drop(['end_nhbr_x','end station name_x'],inplace=True,axis=1)"
   ]
  },
  {
   "cell_type": "code",
   "execution_count": null,
   "metadata": {
    "collapsed": true
   },
   "outputs": [],
   "source": [
    "citibikes_df.dropna(inplace=True)"
   ]
  },
  {
   "cell_type": "code",
   "execution_count": null,
   "metadata": {
    "collapsed": true
   },
   "outputs": [],
   "source": [
    "citibikes_df_2.dropna(inplace=True)"
   ]
  },
  {
   "cell_type": "code",
   "execution_count": null,
   "metadata": {
    "collapsed": true
   },
   "outputs": [],
   "source": [
    "missing_stops.to_csv('citibike_data/missing_end_neighborhoods.csv')"
   ]
  },
  {
   "cell_type": "markdown",
   "metadata": {},
   "source": [
    "### Convert usertype to categories\n",
    "\n",
    "Our CitiBike data includes a label for each trip to determine if it was made by a rider who is an annual subscriber or someone who has purchased a temporary pass. We assume that there may be destinations more likely chosen by tourist users. "
   ]
  },
  {
   "cell_type": "code",
   "execution_count": null,
   "metadata": {
    "collapsed": true
   },
   "outputs": [],
   "source": [
    "citibikes_df.usertype = pd.Categorical(citibikes_df.usertype)\n",
    "citibikes_df.usertype = citibikes_df.usertype.cat.codes"
   ]
  },
  {
   "cell_type": "code",
   "execution_count": null,
   "metadata": {
    "collapsed": true
   },
   "outputs": [],
   "source": [
    "citibikes_df_2.usertype = pd.Categorical(citibikes_df_2.usertype)\n",
    "citibikes_df_2.usertype = citibikes_df_2.usertype.cat.codes"
   ]
  },
  {
   "cell_type": "markdown",
   "metadata": {},
   "source": [
    "### Exploring Age Data\n",
    "\n",
    "after individually looking at column distributions, there were a few interestings observations with the age data.\n",
    "Lets look into this below:"
   ]
  },
  {
   "cell_type": "code",
   "execution_count": null,
   "metadata": {
    "scrolled": true
   },
   "outputs": [],
   "source": [
    "%matplotlib inline\n",
    "fig = plt.figure(figsize=(10,7))\n",
    "sns.distplot(citibikes_df['birth year'])\n",
    "plt.title('Distribution of Reported Ages')\n",
    "plt.savefig('original_age_dist.png')"
   ]
  },
  {
   "cell_type": "markdown",
   "metadata": {},
   "source": [
    "The easit thing to handle: people born way too early. We've set a cut-off age of 80. Only __0.15%__ is from people saying they were born before 1939. If you look at the data above, these all seem pretty unrealistic, so lets __drop these values.__"
   ]
  },
  {
   "cell_type": "code",
   "execution_count": null,
   "metadata": {},
   "outputs": [],
   "source": [
    "citibikes_df[citibikes_df['birth year'] <= 1939].shape"
   ]
  },
  {
   "cell_type": "code",
   "execution_count": null,
   "metadata": {},
   "outputs": [],
   "source": [
    "round(citibikes_df[citibikes_df['birth year'] <= 1939].shape[0]/big.shape[0] * 100,2)"
   ]
  },
  {
   "cell_type": "code",
   "execution_count": null,
   "metadata": {
    "collapsed": true
   },
   "outputs": [],
   "source": [
    "citibikes_df.drop(list(citibikes_df[citibikes_df['birth year'] <= 1939]['birth year'].index),inplace=True)"
   ]
  },
  {
   "cell_type": "code",
   "execution_count": null,
   "metadata": {
    "collapsed": true
   },
   "outputs": [],
   "source": [
    "citibikes_df_2.drop(list(big_2[big_2['birth year'] <= 1939]['birth year'].index),inplace=True)"
   ]
  },
  {
   "cell_type": "markdown",
   "metadata": {},
   "source": [
    "### the youngest riders would need to be born in 2003, so we check for any riders claiming to be born after that"
   ]
  },
  {
   "cell_type": "code",
   "execution_count": null,
   "metadata": {},
   "outputs": [],
   "source": [
    "citibikes_df['birth year'].max() #looks like no one is reporting to be younger"
   ]
  },
  {
   "cell_type": "markdown",
   "metadata": {},
   "source": [
    "### Smooth '1969' birth year\n"
   ]
  },
  {
   "cell_type": "code",
   "execution_count": null,
   "metadata": {
    "collapsed": true
   },
   "outputs": [],
   "source": [
    "def change_birth_year(row,med_age_df):\n",
    "    '''\n",
    "    This function will be applied to each row, where ever there is a 1969 we will replace it with the birth year \n",
    "    from median_birthyear_no_69 which matches with our stop neighborhood\n",
    "    '''\n",
    "    if row['birth year'] == 1969:\n",
    "        year = med_age_df[med_age_df['end_nhbr']== row['end_nhbr']]['birth year']\n",
    "        return year.item()\n",
    "    else:\n",
    "        return row['birth year']"
   ]
  },
  {
   "cell_type": "markdown",
   "metadata": {},
   "source": [
    "Create dataframes of the median birth year by stop neighborhood"
   ]
  },
  {
   "cell_type": "code",
   "execution_count": null,
   "metadata": {
    "collapsed": true
   },
   "outputs": [],
   "source": [
    "median_birthyear = pd.DataFrame(citibikes_df.groupby('end_nhbr')['birth year'].median())\n",
    "median_birthyear.reset_index(inplace=True) \n",
    "# median_birthyear.head()"
   ]
  },
  {
   "cell_type": "code",
   "execution_count": null,
   "metadata": {
    "collapsed": true
   },
   "outputs": [],
   "source": [
    "median_birthyear_2 = pd.DataFrame(citibikes_df_2.groupby('end_nhbr')['birth year'].median())\n",
    "median_birthyear_2.reset_index(inplace=True) \n",
    "# median_birthyear.head()"
   ]
  },
  {
   "cell_type": "code",
   "execution_count": null,
   "metadata": {
    "collapsed": true
   },
   "outputs": [],
   "source": [
    "citibikes_df['update_birth_yr_2'] = citibikes_df.apply(lambda row: change_birth_year(row,median_birthyear),axis=1)\n",
    "citibikes_df_2['update_birth_yr_2'] = citibikes_df_2.apply(lambda row: change_birth_year(row,median_birthyear_2),axis=1)"
   ]
  },
  {
   "cell_type": "markdown",
   "metadata": {},
   "source": [
    "Create a displot of the fixed birth year column:"
   ]
  },
  {
   "cell_type": "code",
   "execution_count": null,
   "metadata": {
    "collapsed": true
   },
   "outputs": [],
   "source": [
    "%matplotlib inline\n",
    "fig = plt.figure(figsize=(10,7))\n",
    "sns.distplot(citibikes_df['birth year'])\n",
    "plt.title('Distribution of Reported Ages w/o 1969')\n",
    "plt.savefig('fixed_age_dist.png')"
   ]
  },
  {
   "cell_type": "markdown",
   "metadata": {},
   "source": [
    "### Bin Age into Categories"
   ]
  },
  {
   "cell_type": "code",
   "execution_count": null,
   "metadata": {
    "collapsed": true
   },
   "outputs": [],
   "source": []
  },
  {
   "cell_type": "markdown",
   "metadata": {},
   "source": [
    "### Label Encode for Morning versus Evening. \n",
    "\n",
    "To better fit a model, using a split day rather than by hour might aide in determining a destination. The idea is that many nieghborhoods are destinations for commuters going to work in the morning and alternatively heading home in the evening. "
   ]
  },
  {
   "cell_type": "code",
   "execution_count": null,
   "metadata": {
    "collapsed": true
   },
   "outputs": [],
   "source": []
  },
  {
   "cell_type": "markdown",
   "metadata": {},
   "source": [
    "### Remove redundant rows - \n",
    "\n",
    "Now that our primary categories are set we will remove features that are not needed or redundant. "
   ]
  },
  {
   "cell_type": "code",
   "execution_count": null,
   "metadata": {
    "collapsed": true
   },
   "outputs": [],
   "source": [
    "citibikes_df = citibikes_df.drop(['tripduration', 'starttime', 'stoptime','start station name',\n",
    "                'end station id', 'bikeid', 'start station latitude', \n",
    "                'start station longitude', 'end station latitude', \n",
    "                'end station longitude','end station name', 'start_date'], axis=1)"
   ]
  },
  {
   "cell_type": "markdown",
   "metadata": {},
   "source": [
    "### Save to CSV file to be used in later models "
   ]
  },
  {
   "cell_type": "code",
   "execution_count": null,
   "metadata": {
    "collapsed": true
   },
   "outputs": [],
   "source": [
    "#citibikes_df.to_csv('citibike_2018.csv', index=False)"
   ]
  },
  {
   "cell_type": "markdown",
   "metadata": {},
   "source": [
    "### View Correlation between varibles. "
   ]
  },
  {
   "cell_type": "code",
   "execution_count": null,
   "metadata": {
    "collapsed": true
   },
   "outputs": [],
   "source": [
    "sns.pairplot(df_small)"
   ]
  },
  {
   "cell_type": "markdown",
   "metadata": {},
   "source": [
    "### View the Volume of stop Neighborhoods."
   ]
  },
  {
   "cell_type": "code",
   "execution_count": null,
   "metadata": {
    "collapsed": true
   },
   "outputs": [],
   "source": [
    "plt.figure(figsize=(12,10))\n",
    "sns.countplot(df_small.stop_nhbr)\n",
    "plt.xticks(rotation=90)"
   ]
  },
  {
   "cell_type": "code",
   "execution_count": null,
   "metadata": {
    "collapsed": true
   },
   "outputs": [],
   "source": []
  }
 ],
 "metadata": {
  "kernelspec": {
   "display_name": "Python 3",
   "language": "python",
   "name": "python3"
  },
  "language_info": {
   "codemirror_mode": {
    "name": "ipython",
    "version": 3
   },
   "file_extension": ".py",
   "mimetype": "text/x-python",
   "name": "python",
   "nbconvert_exporter": "python",
   "pygments_lexer": "ipython3",
   "version": "3.6.8"
  }
 },
 "nbformat": 4,
 "nbformat_minor": 2
}
